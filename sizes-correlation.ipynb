{
 "cells": [
  {
   "cell_type": "markdown",
   "id": "2355ce69-e5fe-4a78-a4ee-83502654a2dd",
   "metadata": {},
   "source": [
    "# Sizes correlation\n",
    "\n",
    "The intention of this notebook is to study the relation of the HTTP responses sizes with the text tokens in order to known if it is possible to remove the bigger files without impacting in the training performance."
   ]
  },
  {
   "cell_type": "code",
   "execution_count": 16,
   "id": "3490c847-beb5-40f1-a801-3cccb90cafa3",
   "metadata": {},
   "outputs": [],
   "source": [
    "import pandas as pd\n",
    "import numpy as np\n",
    "import nltk\n",
    "import re"
   ]
  },
  {
   "cell_type": "code",
   "execution_count": 17,
   "id": "b2590b4f-c3fa-4bdd-89f3-61fb0fac57b7",
   "metadata": {},
   "outputs": [
    {
     "data": {
      "text/plain": [
       "(15422, 6)"
      ]
     },
     "execution_count": 17,
     "metadata": {},
     "output_type": "execute_result"
    }
   ],
   "source": [
    "# The following CSV can be generated with the gen-cc-dataset.sh script.\n",
    "# Use the command: ./gen-cc-dataset.sh all-sizes\n",
    "\n",
    "df = pd.read_csv(\"all-sizes.csv\")\n",
    "df.shape"
   ]
  },
  {
   "cell_type": "code",
   "execution_count": 18,
   "id": "529a9610-ece5-4355-9d3e-9eb9c490dc0c",
   "metadata": {},
   "outputs": [],
   "source": [
    "df[\"len\"] = df[\"text\"].map(lambda t: len(t))"
   ]
  },
  {
   "cell_type": "code",
   "execution_count": 19,
   "id": "e277b538-3a5a-4940-8ebb-cbe2c014f2d8",
   "metadata": {},
   "outputs": [],
   "source": [
    "df[\"tokens_count\"] = df[\"text\"].map(\n",
    "    lambda t: len([\n",
    "        word for word in nltk.word_tokenize(t.lower()) \n",
    "        if re.match(\".*[a-z]+.*\", word)\n",
    "    ]))"
   ]
  },
  {
   "cell_type": "code",
   "execution_count": 11,
   "id": "93ae6e1a-2b24-406d-98dc-bda8e8a1c1ec",
   "metadata": {},
   "outputs": [
    {
     "data": {
      "text/plain": [
       "array([[1.        , 0.11772186],\n",
       "       [0.11772186, 1.        ]])"
      ]
     },
     "execution_count": 11,
     "metadata": {},
     "output_type": "execute_result"
    }
   ],
   "source": [
    "np.corrcoef(df[\"size\"], df[\"len\"])"
   ]
  },
  {
   "cell_type": "code",
   "execution_count": 20,
   "id": "e05bd235-dcf6-4a86-9ec6-834c5f9f31fe",
   "metadata": {},
   "outputs": [
    {
     "data": {
      "text/plain": [
       "array([[1.        , 0.11277653],\n",
       "       [0.11277653, 1.        ]])"
      ]
     },
     "execution_count": 20,
     "metadata": {},
     "output_type": "execute_result"
    }
   ],
   "source": [
    "np.corrcoef(df[\"size\"], df[\"tokens_count\"])"
   ]
  },
  {
   "cell_type": "code",
   "execution_count": 22,
   "id": "7f1b83c9-531f-4f98-b3f3-e76f04dfc6ce",
   "metadata": {},
   "outputs": [
    {
     "data": {
      "text/plain": [
       "count    1.542200e+04\n",
       "mean     1.448571e+05\n",
       "std      2.028425e+05\n",
       "min      9.000000e+00\n",
       "25%      2.668500e+04\n",
       "50%      7.606550e+04\n",
       "75%      1.711600e+05\n",
       "max      1.048576e+06\n",
       "Name: size, dtype: float64"
      ]
     },
     "execution_count": 22,
     "metadata": {},
     "output_type": "execute_result"
    }
   ],
   "source": [
    "df[\"size\"].describe()"
   ]
  }
 ],
 "metadata": {
  "kernelspec": {
   "display_name": "Python 3 (ipykernel)",
   "language": "python",
   "name": "python3"
  },
  "language_info": {
   "codemirror_mode": {
    "name": "ipython",
    "version": 3
   },
   "file_extension": ".py",
   "mimetype": "text/x-python",
   "name": "python",
   "nbconvert_exporter": "python",
   "pygments_lexer": "ipython3",
   "version": "3.11.2"
  }
 },
 "nbformat": 4,
 "nbformat_minor": 5
}
