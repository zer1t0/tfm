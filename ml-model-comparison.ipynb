{
 "cells": [
  {
   "cell_type": "markdown",
   "metadata": {},
   "source": [
    "# Scikit learn models comparison\n",
    "\n",
    "In this notebook different models are trained using the CommonCrawl dataset to study their performance."
   ]
  },
  {
   "cell_type": "code",
   "execution_count": 1,
   "metadata": {
    "execution": {
     "iopub.execute_input": "2024-12-26T22:35:12.921241Z",
     "iopub.status.busy": "2024-12-26T22:35:12.920887Z",
     "iopub.status.idle": "2024-12-26T22:35:23.025188Z",
     "shell.execute_reply": "2024-12-26T22:35:23.023885Z",
     "shell.execute_reply.started": "2024-12-26T22:35:12.921210Z"
    }
   },
   "outputs": [
    {
     "name": "stdout",
     "output_type": "stream",
     "text": [
      "Collecting scikit-learn==1.5.2\n",
      "  Downloading scikit_learn-1.5.2-cp310-cp310-manylinux_2_17_x86_64.manylinux2014_x86_64.whl.metadata (13 kB)\n",
      "Requirement already satisfied: numpy>=1.19.5 in /usr/local/lib/python3.10/dist-packages (from scikit-learn==1.5.2) (1.26.4)\n",
      "Requirement already satisfied: scipy>=1.6.0 in /usr/local/lib/python3.10/dist-packages (from scikit-learn==1.5.2) (1.13.1)\n",
      "Requirement already satisfied: joblib>=1.2.0 in /usr/local/lib/python3.10/dist-packages (from scikit-learn==1.5.2) (1.4.2)\n",
      "Requirement already satisfied: threadpoolctl>=3.1.0 in /usr/local/lib/python3.10/dist-packages (from scikit-learn==1.5.2) (3.5.0)\n",
      "Downloading scikit_learn-1.5.2-cp310-cp310-manylinux_2_17_x86_64.manylinux2014_x86_64.whl (13.3 MB)\n",
      "\u001b[2K   \u001b[90m━━━━━━━━━━━━━━━━━━━━━━━━━━━━━━━━━━━━━━━━\u001b[0m \u001b[32m13.3/13.3 MB\u001b[0m \u001b[31m81.4 MB/s\u001b[0m eta \u001b[36m0:00:00\u001b[0m:00:01\u001b[0m0:01\u001b[0m\n",
      "\u001b[?25hInstalling collected packages: scikit-learn\n",
      "  Attempting uninstall: scikit-learn\n",
      "    Found existing installation: scikit-learn 1.2.2\n",
      "    Uninstalling scikit-learn-1.2.2:\n",
      "      Successfully uninstalled scikit-learn-1.2.2\n",
      "Successfully installed scikit-learn-1.5.2\n"
     ]
    }
   ],
   "source": [
    "# It is important to have the same version in Kaggle and in local\n",
    "# to save and import the models properly\n",
    "!pip install scikit-learn==1.5.2"
   ]
  },
  {
   "cell_type": "code",
   "execution_count": 2,
   "metadata": {
    "execution": {
     "iopub.execute_input": "2024-12-26T22:35:23.026968Z",
     "iopub.status.busy": "2024-12-26T22:35:23.026652Z",
     "iopub.status.idle": "2024-12-26T22:35:25.021967Z",
     "shell.execute_reply": "2024-12-26T22:35:25.020837Z",
     "shell.execute_reply.started": "2024-12-26T22:35:23.026938Z"
    }
   },
   "outputs": [],
   "source": [
    "import pandas as pd\n",
    "import numpy as np\n",
    "import nltk\n",
    "from nltk.stem.wordnet import WordNetLemmatizer\n",
    "import re\n",
    "import string\n",
    "import sklearn\n",
    "from sklearn.feature_extraction.text import TfidfVectorizer\n",
    "from sklearn.model_selection import train_test_split\n",
    "import re\n",
    "\n",
    "from sklearn.svm import LinearSVC\n",
    "from sklearn.ensemble import RandomForestClassifier\n",
    "from sklearn.naive_bayes import GaussianNB\n",
    "from sklearn.linear_model import LogisticRegression\n",
    "\n",
    "from sklearn.metrics import accuracy_score, confusion_matrix, f1_score, precision_score, recall_score\n",
    "import seaborn as sns\n",
    "import matplotlib.pyplot as plt"
   ]
  },
  {
   "cell_type": "code",
   "execution_count": 3,
   "metadata": {
    "execution": {
     "iopub.execute_input": "2024-12-26T22:35:25.024706Z",
     "iopub.status.busy": "2024-12-26T22:35:25.024132Z",
     "iopub.status.idle": "2024-12-26T22:35:25.030552Z",
     "shell.execute_reply": "2024-12-26T22:35:25.029361Z",
     "shell.execute_reply.started": "2024-12-26T22:35:25.024669Z"
    }
   },
   "outputs": [
    {
     "name": "stdout",
     "output_type": "stream",
     "text": [
      "The scikit-learn version is 1.5.2.\n"
     ]
    }
   ],
   "source": [
    "print('The scikit-learn version is {}.'.format(sklearn.__version__))"
   ]
  },
  {
   "cell_type": "code",
   "execution_count": 4,
   "metadata": {
    "execution": {
     "iopub.execute_input": "2024-12-26T22:35:25.032654Z",
     "iopub.status.busy": "2024-12-26T22:35:25.032257Z",
     "iopub.status.idle": "2024-12-26T22:35:26.452629Z",
     "shell.execute_reply": "2024-12-26T22:35:26.451717Z",
     "shell.execute_reply.started": "2024-12-26T22:35:25.032615Z"
    }
   },
   "outputs": [
    {
     "data": {
      "text/html": [
       "<div>\n",
       "<style scoped>\n",
       "    .dataframe tbody tr th:only-of-type {\n",
       "        vertical-align: middle;\n",
       "    }\n",
       "\n",
       "    .dataframe tbody tr th {\n",
       "        vertical-align: top;\n",
       "    }\n",
       "\n",
       "    .dataframe thead th {\n",
       "        text-align: right;\n",
       "    }\n",
       "</style>\n",
       "<table border=\"1\" class=\"dataframe\">\n",
       "  <thead>\n",
       "    <tr style=\"text-align: right;\">\n",
       "      <th></th>\n",
       "      <th>label</th>\n",
       "      <th>status_code</th>\n",
       "      <th>content_type</th>\n",
       "      <th>url</th>\n",
       "      <th>size</th>\n",
       "      <th>title</th>\n",
       "      <th>text</th>\n",
       "    </tr>\n",
       "  </thead>\n",
       "  <tbody>\n",
       "    <tr>\n",
       "      <th>0</th>\n",
       "      <td>error</td>\n",
       "      <td>404</td>\n",
       "      <td>text/html</td>\n",
       "      <td>http://1ut8p3.com/product/aecphronian1201383?i...</td>\n",
       "      <td>1516</td>\n",
       "      <td>Domain misconfigured</td>\n",
       "      <td>Domain misconfigured\\tThis domain points to Sh...</td>\n",
       "    </tr>\n",
       "    <tr>\n",
       "      <th>1</th>\n",
       "      <td>error</td>\n",
       "      <td>410</td>\n",
       "      <td>text/html</td>\n",
       "      <td>http://aka.justice.gov.uk/news/newsrelease0502...</td>\n",
       "      <td>2069</td>\n",
       "      <td>410 - Page Archived</td>\n",
       "      <td>410 - Page Archived\\tMinistry of Justice\\tThis...</td>\n",
       "    </tr>\n",
       "    <tr>\n",
       "      <th>2</th>\n",
       "      <td>error</td>\n",
       "      <td>404</td>\n",
       "      <td>text/html</td>\n",
       "      <td>http://aqwwiki.wikidot.com/paladin-ascendant-0-ac</td>\n",
       "      <td>25525</td>\n",
       "      <td>AQW</td>\n",
       "      <td>AQW\\tHomepage\\tNew Releases\\tEncyclopedia\\t+ W...</td>\n",
       "    </tr>\n",
       "    <tr>\n",
       "      <th>3</th>\n",
       "      <td>error</td>\n",
       "      <td>404</td>\n",
       "      <td>text/html</td>\n",
       "      <td>http://artikel-nolimitcity.online/3942972.phtml</td>\n",
       "      <td>48211</td>\n",
       "      <td>Page Not Found - Artikel Nolimit City</td>\n",
       "      <td>Page Not Found - Artikel Nolimit City\\tSkip to...</td>\n",
       "    </tr>\n",
       "    <tr>\n",
       "      <th>4</th>\n",
       "      <td>error</td>\n",
       "      <td>406</td>\n",
       "      <td>text/html</td>\n",
       "      <td>http://bandongunclub.org/</td>\n",
       "      <td>251</td>\n",
       "      <td>406 Not Acceptable</td>\n",
       "      <td>406 Not Acceptable\\tNot Acceptable\\tAn appropr...</td>\n",
       "    </tr>\n",
       "    <tr>\n",
       "      <th>...</th>\n",
       "      <td>...</td>\n",
       "      <td>...</td>\n",
       "      <td>...</td>\n",
       "      <td>...</td>\n",
       "      <td>...</td>\n",
       "      <td>...</td>\n",
       "      <td>...</td>\n",
       "    </tr>\n",
       "    <tr>\n",
       "      <th>41193</th>\n",
       "      <td>content</td>\n",
       "      <td>200</td>\n",
       "      <td>text/html</td>\n",
       "      <td>https://wheat.pw.usda.gov/cgi-bin/cmap/feature...</td>\n",
       "      <td>53703</td>\n",
       "      <td>GrainGenes | A Database for Triticeae and Avena</td>\n",
       "      <td>GrainGenes | A Database for Triticeae and Aven...</td>\n",
       "    </tr>\n",
       "    <tr>\n",
       "      <th>41194</th>\n",
       "      <td>content</td>\n",
       "      <td>200</td>\n",
       "      <td>text/html</td>\n",
       "      <td>https://whenwedip.com/tag/harvard-bass/</td>\n",
       "      <td>80626</td>\n",
       "      <td>When We Dip | Harvard Bass Archives - When We Dip</td>\n",
       "      <td>When We Dip | Harvard Bass Archives - When We ...</td>\n",
       "    </tr>\n",
       "    <tr>\n",
       "      <th>41195</th>\n",
       "      <td>content</td>\n",
       "      <td>200</td>\n",
       "      <td>text/html</td>\n",
       "      <td>https://wherethereisdarkness.com/cgi-sys/suspe...</td>\n",
       "      <td>7642</td>\n",
       "      <td>Account Suspended</td>\n",
       "      <td>Account Suspended\\tAccount Suspended\\tThis Acc...</td>\n",
       "    </tr>\n",
       "    <tr>\n",
       "      <th>41196</th>\n",
       "      <td>content</td>\n",
       "      <td>200</td>\n",
       "      <td>text/html</td>\n",
       "      <td>https://whitecrowbooks.com/books/page/polterge...</td>\n",
       "      <td>26444</td>\n",
       "      <td>Poltergeists by Alan Gauld and A. D. Cornell |...</td>\n",
       "      <td>Poltergeists by Alan Gauld and A. D. Cornell |...</td>\n",
       "    </tr>\n",
       "    <tr>\n",
       "      <th>41197</th>\n",
       "      <td>content</td>\n",
       "      <td>200</td>\n",
       "      <td>text/html</td>\n",
       "      <td>https://whitetaildiaries.com/2018/01/16/late-w...</td>\n",
       "      <td>88717</td>\n",
       "      <td>Late Winter Hunting - Yamaha Whitetail Diaries</td>\n",
       "      <td>Late Winter Hunting - Yamaha Whitetail Diaries...</td>\n",
       "    </tr>\n",
       "  </tbody>\n",
       "</table>\n",
       "<p>41198 rows × 7 columns</p>\n",
       "</div>"
      ],
      "text/plain": [
       "         label  status_code content_type  \\\n",
       "0        error          404    text/html   \n",
       "1        error          410    text/html   \n",
       "2        error          404    text/html   \n",
       "3        error          404    text/html   \n",
       "4        error          406    text/html   \n",
       "...        ...          ...          ...   \n",
       "41193  content          200    text/html   \n",
       "41194  content          200    text/html   \n",
       "41195  content          200    text/html   \n",
       "41196  content          200    text/html   \n",
       "41197  content          200    text/html   \n",
       "\n",
       "                                                     url   size  \\\n",
       "0      http://1ut8p3.com/product/aecphronian1201383?i...   1516   \n",
       "1      http://aka.justice.gov.uk/news/newsrelease0502...   2069   \n",
       "2      http://aqwwiki.wikidot.com/paladin-ascendant-0-ac  25525   \n",
       "3        http://artikel-nolimitcity.online/3942972.phtml  48211   \n",
       "4                              http://bandongunclub.org/    251   \n",
       "...                                                  ...    ...   \n",
       "41193  https://wheat.pw.usda.gov/cgi-bin/cmap/feature...  53703   \n",
       "41194            https://whenwedip.com/tag/harvard-bass/  80626   \n",
       "41195  https://wherethereisdarkness.com/cgi-sys/suspe...   7642   \n",
       "41196  https://whitecrowbooks.com/books/page/polterge...  26444   \n",
       "41197  https://whitetaildiaries.com/2018/01/16/late-w...  88717   \n",
       "\n",
       "                                                   title  \\\n",
       "0                                   Domain misconfigured   \n",
       "1                                    410 - Page Archived   \n",
       "2                                                    AQW   \n",
       "3                  Page Not Found - Artikel Nolimit City   \n",
       "4                                     406 Not Acceptable   \n",
       "...                                                  ...   \n",
       "41193    GrainGenes | A Database for Triticeae and Avena   \n",
       "41194  When We Dip | Harvard Bass Archives - When We Dip   \n",
       "41195                                  Account Suspended   \n",
       "41196  Poltergeists by Alan Gauld and A. D. Cornell |...   \n",
       "41197     Late Winter Hunting - Yamaha Whitetail Diaries   \n",
       "\n",
       "                                                    text  \n",
       "0      Domain misconfigured\\tThis domain points to Sh...  \n",
       "1      410 - Page Archived\\tMinistry of Justice\\tThis...  \n",
       "2      AQW\\tHomepage\\tNew Releases\\tEncyclopedia\\t+ W...  \n",
       "3      Page Not Found - Artikel Nolimit City\\tSkip to...  \n",
       "4      406 Not Acceptable\\tNot Acceptable\\tAn appropr...  \n",
       "...                                                  ...  \n",
       "41193  GrainGenes | A Database for Triticeae and Aven...  \n",
       "41194  When We Dip | Harvard Bass Archives - When We ...  \n",
       "41195  Account Suspended\\tAccount Suspended\\tThis Acc...  \n",
       "41196  Poltergeists by Alan Gauld and A. D. Cornell |...  \n",
       "41197  Late Winter Hunting - Yamaha Whitetail Diaries...  \n",
       "\n",
       "[41198 rows x 7 columns]"
      ]
     },
     "execution_count": 4,
     "metadata": {},
     "output_type": "execute_result"
    }
   ],
   "source": [
    "df = pd.read_csv(\"/kaggle/input/all-codes-small.csv\", na_filter=False)\n",
    "df"
   ]
  },
  {
   "cell_type": "code",
   "execution_count": 5,
   "metadata": {
    "execution": {
     "iopub.execute_input": "2024-12-26T22:35:26.453914Z",
     "iopub.status.busy": "2024-12-26T22:35:26.453563Z",
     "iopub.status.idle": "2024-12-26T22:35:26.471553Z",
     "shell.execute_reply": "2024-12-26T22:35:26.470591Z",
     "shell.execute_reply.started": "2024-12-26T22:35:26.453875Z"
    }
   },
   "outputs": [
    {
     "data": {
      "text/plain": [
       "20901"
      ]
     },
     "execution_count": 5,
     "metadata": {},
     "output_type": "execute_result"
    }
   ],
   "source": [
    "df.query(\"status_code != 200\").shape[0]"
   ]
  },
  {
   "cell_type": "code",
   "execution_count": 6,
   "metadata": {
    "execution": {
     "iopub.execute_input": "2024-12-26T22:35:26.472639Z",
     "iopub.status.busy": "2024-12-26T22:35:26.472347Z",
     "iopub.status.idle": "2024-12-26T22:35:26.488010Z",
     "shell.execute_reply": "2024-12-26T22:35:26.486767Z",
     "shell.execute_reply.started": "2024-12-26T22:35:26.472613Z"
    }
   },
   "outputs": [
    {
     "data": {
      "text/plain": [
       "20297"
      ]
     },
     "execution_count": 6,
     "metadata": {},
     "output_type": "execute_result"
    }
   ],
   "source": [
    "df.query(\"status_code == 200\").shape[0]"
   ]
  },
  {
   "cell_type": "markdown",
   "metadata": {},
   "source": [
    "## Tokenization\n",
    "\n",
    "Firs step is to tokenize the texts of dataset in order to retrieve the most relevant terms."
   ]
  },
  {
   "cell_type": "code",
   "execution_count": 7,
   "metadata": {
    "execution": {
     "iopub.execute_input": "2024-12-26T22:35:26.489458Z",
     "iopub.status.busy": "2024-12-26T22:35:26.489102Z",
     "iopub.status.idle": "2024-12-26T22:36:24.950785Z",
     "shell.execute_reply": "2024-12-26T22:36:24.949852Z",
     "shell.execute_reply.started": "2024-12-26T22:35:26.489429Z"
    }
   },
   "outputs": [],
   "source": [
    "text_stream = [nltk.word_tokenize(d.lower()) for d in df.text.tolist()]"
   ]
  },
  {
   "cell_type": "code",
   "execution_count": 8,
   "metadata": {
    "execution": {
     "iopub.execute_input": "2024-12-26T22:36:24.954250Z",
     "iopub.status.busy": "2024-12-26T22:36:24.953958Z",
     "iopub.status.idle": "2024-12-26T22:36:24.958946Z",
     "shell.execute_reply": "2024-12-26T22:36:24.957920Z",
     "shell.execute_reply.started": "2024-12-26T22:36:24.954225Z"
    }
   },
   "outputs": [],
   "source": [
    "labels = df[\"label\"].tolist()"
   ]
  },
  {
   "cell_type": "code",
   "execution_count": 9,
   "metadata": {
    "execution": {
     "iopub.execute_input": "2024-12-26T22:36:24.960973Z",
     "iopub.status.busy": "2024-12-26T22:36:24.960648Z",
     "iopub.status.idle": "2024-12-26T22:36:25.506084Z",
     "shell.execute_reply": "2024-12-26T22:36:25.504689Z",
     "shell.execute_reply.started": "2024-12-26T22:36:24.960944Z"
    }
   },
   "outputs": [
    {
     "name": "stdout",
     "output_type": "stream",
     "text": [
      "Archive:  /usr/share/nltk_data/corpora/wordnet.zip\n",
      "   creating: /usr/share/nltk_data/corpora/wordnet/\n",
      "  inflating: /usr/share/nltk_data/corpora/wordnet/lexnames  \n",
      "  inflating: /usr/share/nltk_data/corpora/wordnet/data.verb  \n",
      "  inflating: /usr/share/nltk_data/corpora/wordnet/index.adv  \n",
      "  inflating: /usr/share/nltk_data/corpora/wordnet/adv.exc  \n",
      "  inflating: /usr/share/nltk_data/corpora/wordnet/index.verb  \n",
      "  inflating: /usr/share/nltk_data/corpora/wordnet/cntlist.rev  \n",
      "  inflating: /usr/share/nltk_data/corpora/wordnet/data.adj  \n",
      "  inflating: /usr/share/nltk_data/corpora/wordnet/index.adj  \n",
      "  inflating: /usr/share/nltk_data/corpora/wordnet/LICENSE  \n",
      "  inflating: /usr/share/nltk_data/corpora/wordnet/citation.bib  \n",
      "  inflating: /usr/share/nltk_data/corpora/wordnet/noun.exc  \n",
      "  inflating: /usr/share/nltk_data/corpora/wordnet/verb.exc  \n",
      "  inflating: /usr/share/nltk_data/corpora/wordnet/README  \n",
      "  inflating: /usr/share/nltk_data/corpora/wordnet/index.sense  \n",
      "  inflating: /usr/share/nltk_data/corpora/wordnet/data.noun  \n",
      "  inflating: /usr/share/nltk_data/corpora/wordnet/data.adv  \n",
      "  inflating: /usr/share/nltk_data/corpora/wordnet/index.noun  \n",
      "  inflating: /usr/share/nltk_data/corpora/wordnet/adj.exc  \n"
     ]
    }
   ],
   "source": [
    "# For some reason, nltk is not able to decompress \n",
    "# the wordnet corpora by itself, so let's help it\n",
    "!unzip -n /usr/share/nltk_data/corpora/wordnet.zip -d /usr/share/nltk_data/corpora/"
   ]
  },
  {
   "cell_type": "code",
   "execution_count": 10,
   "metadata": {
    "execution": {
     "iopub.execute_input": "2024-12-26T22:36:25.508095Z",
     "iopub.status.busy": "2024-12-26T22:36:25.507775Z",
     "iopub.status.idle": "2024-12-26T22:37:03.436375Z",
     "shell.execute_reply": "2024-12-26T22:37:03.435296Z",
     "shell.execute_reply.started": "2024-12-26T22:36:25.508062Z"
    }
   },
   "outputs": [],
   "source": [
    "def token_is_404(token):\n",
    "    return token == \"404\"\n",
    "\n",
    "def token_is_error_status_code(token):\n",
    "    try:\n",
    "        n = int(token)\n",
    "        return 400 <= n <= 425 or 500 <= n <= 511\n",
    "    except ValueError:\n",
    "        return False\n",
    "\n",
    "def token_is_punctuation(token):\n",
    "    for c in token:\n",
    "        if c not in string.punctuation:\n",
    "            return False\n",
    "    return True\n",
    "\n",
    "def is_token_just_word(token):\n",
    "    return re.match(\"^[a-z'_]+$\", token)\n",
    "\n",
    "def clean_term_sentence(ts):\n",
    "    for token in ts:\n",
    "        token = token.strip()\n",
    "        token = token.replace(\"’\", \"'\")\n",
    "        if token and not token_is_punctuation(token) \\\n",
    "            and (is_token_just_word(token) or token_is_error_status_code(token)):\n",
    "            yield WordNetLemmatizer().lemmatize(token)\n",
    "\n",
    "clean_streams = [list(clean_term_sentence(ts)) for ts in text_stream]"
   ]
  },
  {
   "cell_type": "code",
   "execution_count": 11,
   "metadata": {
    "execution": {
     "iopub.execute_input": "2024-12-26T22:37:03.437864Z",
     "iopub.status.busy": "2024-12-26T22:37:03.437442Z",
     "iopub.status.idle": "2024-12-26T22:37:03.652038Z",
     "shell.execute_reply": "2024-12-26T22:37:03.650966Z",
     "shell.execute_reply.started": "2024-12-26T22:37:03.437793Z"
    }
   },
   "outputs": [],
   "source": [
    "documents = [\" \".join(ts) for ts in clean_streams]\n",
    "# print(documents[:10])"
   ]
  },
  {
   "cell_type": "markdown",
   "metadata": {},
   "source": [
    "## Vectorization\n",
    "\n",
    "The documents are transformed into vectors by using tf.idf."
   ]
  },
  {
   "cell_type": "code",
   "execution_count": 12,
   "metadata": {
    "execution": {
     "iopub.execute_input": "2024-12-26T22:37:03.653231Z",
     "iopub.status.busy": "2024-12-26T22:37:03.652939Z",
     "iopub.status.idle": "2024-12-26T22:37:59.810189Z",
     "shell.execute_reply": "2024-12-26T22:37:59.809155Z",
     "shell.execute_reply.started": "2024-12-26T22:37:03.653204Z"
    }
   },
   "outputs": [],
   "source": [
    "my_vectorizer = TfidfVectorizer(\n",
    "    analyzer='word', \n",
    "    max_features=30000,\n",
    "    ngram_range=(1, 3)\n",
    ")\n",
    "\n",
    "X = my_vectorizer.fit_transform(documents)\n",
    "\n",
    "doc_vectors = X.toarray()"
   ]
  },
  {
   "cell_type": "markdown",
   "metadata": {},
   "source": [
    "## Training\n",
    "\n",
    "In this section the document vectors are used to train the different models."
   ]
  },
  {
   "cell_type": "code",
   "execution_count": 13,
   "metadata": {
    "execution": {
     "iopub.execute_input": "2024-12-26T22:37:59.811515Z",
     "iopub.status.busy": "2024-12-26T22:37:59.811198Z",
     "iopub.status.idle": "2024-12-26T22:38:05.841883Z",
     "shell.execute_reply": "2024-12-26T22:38:05.840735Z",
     "shell.execute_reply.started": "2024-12-26T22:37:59.811487Z"
    }
   },
   "outputs": [],
   "source": [
    "X_train, X_test, y_train, y_test  = train_test_split(\n",
    "        doc_vectors, \n",
    "        labels,\n",
    "        train_size=0.80,\n",
    "        random_state=1234)"
   ]
  },
  {
   "cell_type": "code",
   "execution_count": 14,
   "metadata": {
    "execution": {
     "iopub.execute_input": "2024-12-26T22:38:05.843376Z",
     "iopub.status.busy": "2024-12-26T22:38:05.842902Z",
     "iopub.status.idle": "2024-12-26T22:38:05.850598Z",
     "shell.execute_reply": "2024-12-26T22:38:05.849348Z",
     "shell.execute_reply.started": "2024-12-26T22:38:05.843331Z"
    }
   },
   "outputs": [],
   "source": [
    "def show_metrics(model, y_true, y_pred):\n",
    "    print(\"Model\", model)\n",
    "    print(\"Accuracy: {}\".format(accuracy_score(y_true, y_pred)))\n",
    "    print(\"Precision: {}\".format(precision_score(y_true, y_pred, pos_label=\"error\")))\n",
    "    print(\"Recall: {}\".format(recall_score(y_true, y_pred, pos_label=\"error\")))\n",
    "    print(\"F1: {}\".format(f1_score(y_true, y_pred, pos_label=\"error\")))\n",
    "    \n",
    "    labels = ['error', 'content']\n",
    "    cm = confusion_matrix(y_true, y_pred, labels=labels)\n",
    "    \n",
    "    sns.heatmap(cm, \n",
    "                annot=True,\n",
    "                fmt='g', \n",
    "                xticklabels=labels,\n",
    "                yticklabels=labels)\n",
    "    plt.ylabel('Actual', fontsize=13)\n",
    "    plt.title('{} Confusion Matrix'.format(model), fontsize=17, pad=20)\n",
    "    plt.gca().xaxis.set_label_position('top') \n",
    "    plt.xlabel('Prediction', fontsize=13)\n",
    "    plt.gca().xaxis.tick_top()\n",
    "    \n",
    "    # plt.gca().figure.subplots_adjust(bottom=0.2)\n",
    "    # plt.gca().figure.text(0.5, 0.05, 'Prediction', ha='center', fontsize=13)\n",
    "    plt.show()"
   ]
  },
  {
   "cell_type": "code",
   "execution_count": 15,
   "metadata": {
    "execution": {
     "iopub.execute_input": "2024-12-26T22:38:05.851917Z",
     "iopub.status.busy": "2024-12-26T22:38:05.851621Z",
     "iopub.status.idle": "2024-12-26T22:38:05.870201Z",
     "shell.execute_reply": "2024-12-26T22:38:05.868871Z",
     "shell.execute_reply.started": "2024-12-26T22:38:05.851888Z"
    }
   },
   "outputs": [],
   "source": [
    "def split_into_sublists_with_max_size(v, max_size):\n",
    "    arrays = []\n",
    "    start_offset = 0\n",
    "    while True:\n",
    "        subv = v[start_offset:start_offset+max_size]\n",
    "        if len(subv) == 0:\n",
    "            break\n",
    "        arrays.append(subv)\n",
    "        start_offset += max_size\n",
    "\n",
    "    return arrays"
   ]
  },
  {
   "cell_type": "code",
   "execution_count": 16,
   "metadata": {
    "execution": {
     "iopub.execute_input": "2024-12-26T22:38:05.871753Z",
     "iopub.status.busy": "2024-12-26T22:38:05.871396Z",
     "iopub.status.idle": "2024-12-26T22:38:23.779879Z",
     "shell.execute_reply": "2024-12-26T22:38:23.778856Z",
     "shell.execute_reply.started": "2024-12-26T22:38:05.871719Z"
    }
   },
   "outputs": [],
   "source": [
    "nb_classifier = GaussianNB()\n",
    "\n",
    "partials_X_train = split_into_sublists_with_max_size(X_train, 5000)\n",
    "partials_y_train = split_into_sublists_with_max_size(y_train, 5000)\n",
    "\n",
    "for partial_X_train, partial_y_train in zip(partials_X_train, partials_y_train):\n",
    "    nb_classifier.partial_fit(\n",
    "        partial_X_train, \n",
    "        partial_y_train, \n",
    "        np.unique(y_train)\n",
    "    )\n",
    "\n",
    "\n",
    "\n",
    "nb_y_pred = nb_classifier.predict(X_test)"
   ]
  },
  {
   "cell_type": "code",
   "execution_count": 17,
   "metadata": {
    "execution": {
     "iopub.execute_input": "2024-12-26T22:38:23.781148Z",
     "iopub.status.busy": "2024-12-26T22:38:23.780829Z",
     "iopub.status.idle": "2024-12-26T22:38:24.312414Z",
     "shell.execute_reply": "2024-12-26T22:38:24.311398Z",
     "shell.execute_reply.started": "2024-12-26T22:38:23.781120Z"
    }
   },
   "outputs": [
    {
     "name": "stdout",
     "output_type": "stream",
     "text": [
      "Model GaussianNB\n",
      "Accuracy: 0.9339805825242719\n",
      "Precision: 0.9092131809011432\n",
      "Recall: 0.966865315852205\n",
      "F1: 0.9371534195933456\n"
     ]
    },
    {
     "data": {
      "image/png": "[encoded data removed]",
      "text/plain": [
       "<Figure size 640x480 with 2 Axes>"
      ]
     },
     "metadata": {},
     "output_type": "display_data"
    }
   ],
   "source": [
    "show_metrics(\"GaussianNB\", y_test, nb_y_pred)"
   ]
  },
  {
   "cell_type": "code",
   "execution_count": 18,
   "metadata": {
    "execution": {
     "iopub.execute_input": "2024-12-26T22:38:24.313653Z",
     "iopub.status.busy": "2024-12-26T22:38:24.313254Z",
     "iopub.status.idle": "2024-12-26T22:38:43.420956Z",
     "shell.execute_reply": "2024-12-26T22:38:43.413226Z",
     "shell.execute_reply.started": "2024-12-26T22:38:24.313617Z"
    }
   },
   "outputs": [],
   "source": [
    "logreg_classifier = LogisticRegression()\n",
    "logreg_model = logreg_classifier.fit(X=X_train, y=y_train)\n",
    "logreg_y_pred = logreg_model.predict(X_test)"
   ]
  },
  {
   "cell_type": "code",
   "execution_count": 19,
   "metadata": {
    "execution": {
     "iopub.execute_input": "2024-12-26T22:38:43.423129Z",
     "iopub.status.busy": "2024-12-26T22:38:43.422664Z",
     "iopub.status.idle": "2024-12-26T22:38:43.984477Z",
     "shell.execute_reply": "2024-12-26T22:38:43.983351Z",
     "shell.execute_reply.started": "2024-12-26T22:38:43.423082Z"
    }
   },
   "outputs": [
    {
     "name": "stdout",
     "output_type": "stream",
     "text": [
      "Model LogisticRegression\n",
      "Accuracy: 0.975364077669903\n",
      "Precision: 0.9947942488844819\n",
      "Recall: 0.9566150178784267\n",
      "F1: 0.9753311459472597\n"
     ]
    },
    {
     "data": {
      "image/png": "[encoded data removed]",
      "text/plain": [
       "<Figure size 640x480 with 2 Axes>"
      ]
     },
     "metadata": {},
     "output_type": "display_data"
    }
   ],
   "source": [
    "show_metrics(\"LogisticRegression\", y_test, logreg_y_pred)"
   ]
  },
  {
   "cell_type": "code",
   "execution_count": 20,
   "metadata": {
    "execution": {
     "iopub.execute_input": "2024-12-26T22:38:43.985907Z",
     "iopub.status.busy": "2024-12-26T22:38:43.985497Z",
     "iopub.status.idle": "2024-12-26T22:39:00.963017Z",
     "shell.execute_reply": "2024-12-26T22:39:00.961936Z",
     "shell.execute_reply.started": "2024-12-26T22:38:43.985870Z"
    }
   },
   "outputs": [],
   "source": [
    "svc_model = LinearSVC()\n",
    "svc_model.fit(X=X_train, y=y_train)\n",
    "svc_y_pred = svc_model.predict(X_test)"
   ]
  },
  {
   "cell_type": "code",
   "execution_count": 21,
   "metadata": {
    "execution": {
     "iopub.execute_input": "2024-12-26T22:39:00.964810Z",
     "iopub.status.busy": "2024-12-26T22:39:00.964245Z",
     "iopub.status.idle": "2024-12-26T22:39:01.505190Z",
     "shell.execute_reply": "2024-12-26T22:39:01.503973Z",
     "shell.execute_reply.started": "2024-12-26T22:39:00.964758Z"
    }
   },
   "outputs": [
    {
     "name": "stdout",
     "output_type": "stream",
     "text": [
      "Model LinearSVC\n",
      "Accuracy: 0.9836165048543689\n",
      "Precision: 0.9920019389238972\n",
      "Recall: 0.9756853396901073\n",
      "F1: 0.9837759884629251\n"
     ]
    },
    {
     "data": {
      "image/png": "[encoded data removed]",
      "text/plain": [
       "<Figure size 640x480 with 2 Axes>"
      ]
     },
     "metadata": {},
     "output_type": "display_data"
    }
   ],
   "source": [
    "show_metrics(\"LinearSVC\", y_test, svc_y_pred)"
   ]
  },
  {
   "cell_type": "code",
   "execution_count": 22,
   "metadata": {
    "execution": {
     "iopub.execute_input": "2024-12-26T22:39:01.507022Z",
     "iopub.status.busy": "2024-12-26T22:39:01.506395Z",
     "iopub.status.idle": "2024-12-26T22:43:01.501827Z",
     "shell.execute_reply": "2024-12-26T22:43:01.500639Z",
     "shell.execute_reply.started": "2024-12-26T22:39:01.506983Z"
    }
   },
   "outputs": [],
   "source": [
    "rf_classifier = RandomForestClassifier()\n",
    "rf_model = rf_classifier.fit(X=X_train, y=y_train)\n",
    "rf_y_pred = rf_model.predict(X_test)"
   ]
  },
  {
   "cell_type": "code",
   "execution_count": 23,
   "metadata": {
    "execution": {
     "iopub.execute_input": "2024-12-26T22:43:01.507398Z",
     "iopub.status.busy": "2024-12-26T22:43:01.507033Z",
     "iopub.status.idle": "2024-12-26T22:43:01.991463Z",
     "shell.execute_reply": "2024-12-26T22:43:01.989249Z",
     "shell.execute_reply.started": "2024-12-26T22:43:01.507367Z"
    }
   },
   "outputs": [
    {
     "name": "stdout",
     "output_type": "stream",
     "text": [
      "Model RandomForest\n",
      "Accuracy: 0.9811893203883495\n",
      "Precision: 0.982560917343526\n",
      "Recall: 0.9804529201430274\n",
      "F1: 0.9815057868989381\n"
     ]
    },
    {
     "data": {
      "image/png": "[encoded data removed]",
      "text/plain": [
       "<Figure size 640x480 with 2 Axes>"
      ]
     },
     "metadata": {},
     "output_type": "display_data"
    }
   ],
   "source": [
    "show_metrics(\"RandomForest\", y_test, rf_y_pred)"
   ]
  },
  {
   "cell_type": "markdown",
   "metadata": {},
   "source": [
    "## Models download\n",
    "\n",
    "This section allows to download the trained models."
   ]
  },
  {
   "cell_type": "code",
   "execution_count": 24,
   "metadata": {
    "execution": {
     "iopub.execute_input": "2024-12-26T22:43:01.994747Z",
     "iopub.status.busy": "2024-12-26T22:43:01.994264Z",
     "iopub.status.idle": "2024-12-26T22:43:02.003663Z",
     "shell.execute_reply": "2024-12-26T22:43:02.001826Z",
     "shell.execute_reply.started": "2024-12-26T22:43:01.994707Z"
    }
   },
   "outputs": [],
   "source": [
    "import pickle\n",
    "from IPython.display import FileLink\n",
    "\n",
    "def save_object_as_pickle(obj, filename):\n",
    "    with open(filename, \"wb\") as fo:\n",
    "        pickle.dump(obj, fo)\n",
    "\n",
    "from datetime import datetime\n",
    "\n",
    "date_part = datetime.now().strftime(\"%Y-%m-%d-%H-%M-%S\")"
   ]
  },
  {
   "cell_type": "code",
   "execution_count": 25,
   "metadata": {
    "execution": {
     "iopub.execute_input": "2024-12-26T22:43:02.006618Z",
     "iopub.status.busy": "2024-12-26T22:43:02.006100Z",
     "iopub.status.idle": "2024-12-26T22:43:02.136047Z",
     "shell.execute_reply": "2024-12-26T22:43:02.134994Z",
     "shell.execute_reply.started": "2024-12-26T22:43:02.006574Z"
    }
   },
   "outputs": [
    {
     "data": {
      "text/html": [
       "<a href='tfidf-2024-12-26-22-43-01.pickle' target='_blank'>tfidf-2024-12-26-22-43-01.pickle</a><br>"
      ],
      "text/plain": [
       "/kaggle/working/tfidf-2024-12-26-22-43-01.pickle"
      ]
     },
     "execution_count": 25,
     "metadata": {},
     "output_type": "execute_result"
    }
   ],
   "source": [
    "filename = \"tfidf-{}.pickle\".format(date_part)\n",
    "obj = my_vectorizer\n",
    "\n",
    "save_object_as_pickle(obj, filename)\n",
    "FileLink(filename)"
   ]
  },
  {
   "cell_type": "code",
   "execution_count": 26,
   "metadata": {
    "execution": {
     "iopub.execute_input": "2024-12-26T22:43:02.137597Z",
     "iopub.status.busy": "2024-12-26T22:43:02.137173Z",
     "iopub.status.idle": "2024-12-26T22:43:02.146397Z",
     "shell.execute_reply": "2024-12-26T22:43:02.145336Z",
     "shell.execute_reply.started": "2024-12-26T22:43:02.137555Z"
    }
   },
   "outputs": [
    {
     "data": {
      "text/html": [
       "<a href='nb-2024-12-26-22-43-01.pickle' target='_blank'>nb-2024-12-26-22-43-01.pickle</a><br>"
      ],
      "text/plain": [
       "/kaggle/working/nb-2024-12-26-22-43-01.pickle"
      ]
     },
     "execution_count": 26,
     "metadata": {},
     "output_type": "execute_result"
    }
   ],
   "source": [
    "filename = \"nb-{}.pickle\".format(date_part)\n",
    "obj = nb_classifier\n",
    "\n",
    "save_object_as_pickle(obj, filename)\n",
    "FileLink(filename)"
   ]
  },
  {
   "cell_type": "code",
   "execution_count": 27,
   "metadata": {
    "execution": {
     "iopub.execute_input": "2024-12-26T22:43:02.147819Z",
     "iopub.status.busy": "2024-12-26T22:43:02.147513Z",
     "iopub.status.idle": "2024-12-26T22:43:02.164283Z",
     "shell.execute_reply": "2024-12-26T22:43:02.163196Z",
     "shell.execute_reply.started": "2024-12-26T22:43:02.147782Z"
    }
   },
   "outputs": [
    {
     "data": {
      "text/html": [
       "<a href='logreg-2024-12-26-22-43-01.pickle' target='_blank'>logreg-2024-12-26-22-43-01.pickle</a><br>"
      ],
      "text/plain": [
       "/kaggle/working/logreg-2024-12-26-22-43-01.pickle"
      ]
     },
     "execution_count": 27,
     "metadata": {},
     "output_type": "execute_result"
    }
   ],
   "source": [
    "filename = \"logreg-{}.pickle\".format(date_part)\n",
    "obj = logreg_model\n",
    "\n",
    "save_object_as_pickle(obj, filename)\n",
    "FileLink(filename)"
   ]
  },
  {
   "cell_type": "code",
   "execution_count": 28,
   "metadata": {
    "execution": {
     "iopub.execute_input": "2024-12-26T22:43:02.165712Z",
     "iopub.status.busy": "2024-12-26T22:43:02.165357Z",
     "iopub.status.idle": "2024-12-26T22:43:02.180621Z",
     "shell.execute_reply": "2024-12-26T22:43:02.179535Z",
     "shell.execute_reply.started": "2024-12-26T22:43:02.165674Z"
    }
   },
   "outputs": [
    {
     "data": {
      "text/html": [
       "<a href='svc-2024-12-26-22-43-01.pickle' target='_blank'>svc-2024-12-26-22-43-01.pickle</a><br>"
      ],
      "text/plain": [
       "/kaggle/working/svc-2024-12-26-22-43-01.pickle"
      ]
     },
     "execution_count": 28,
     "metadata": {},
     "output_type": "execute_result"
    }
   ],
   "source": [
    "filename = \"svc-{}.pickle\".format(date_part)\n",
    "obj = svc_model\n",
    "\n",
    "save_object_as_pickle(obj, filename)\n",
    "FileLink(filename)"
   ]
  },
  {
   "cell_type": "code",
   "execution_count": 29,
   "metadata": {
    "execution": {
     "iopub.execute_input": "2024-12-26T22:43:02.182346Z",
     "iopub.status.busy": "2024-12-26T22:43:02.181958Z",
     "iopub.status.idle": "2024-12-26T22:43:02.278877Z",
     "shell.execute_reply": "2024-12-26T22:43:02.277651Z",
     "shell.execute_reply.started": "2024-12-26T22:43:02.182301Z"
    }
   },
   "outputs": [
    {
     "data": {
      "text/html": [
       "<a href='rf-2024-12-26-22-43-01.pickle' target='_blank'>rf-2024-12-26-22-43-01.pickle</a><br>"
      ],
      "text/plain": [
       "/kaggle/working/rf-2024-12-26-22-43-01.pickle"
      ]
     },
     "execution_count": 29,
     "metadata": {},
     "output_type": "execute_result"
    }
   ],
   "source": [
    "filename = \"rf-{}.pickle\".format(date_part)\n",
    "obj = rf_model\n",
    "\n",
    "save_object_as_pickle(obj, filename)\n",
    "FileLink(filename)"
   ]
  },
  {
   "cell_type": "markdown",
   "metadata": {},
   "source": [
    "## Evaluation\n",
    "\n",
    "In this section the models are evaluated against the manually labeled dataset."
   ]
  },
  {
   "cell_type": "code",
   "execution_count": 30,
   "metadata": {
    "execution": {
     "iopub.execute_input": "2024-12-26T22:43:02.280349Z",
     "iopub.status.busy": "2024-12-26T22:43:02.279994Z",
     "iopub.status.idle": "2024-12-26T22:43:02.286131Z",
     "shell.execute_reply": "2024-12-26T22:43:02.285021Z",
     "shell.execute_reply.started": "2024-12-26T22:43:02.280318Z"
    }
   },
   "outputs": [],
   "source": [
    "def preprocess_test_dataset(csv_dataset, vectorizer):\n",
    "    df = pd.read_csv(csv_dataset)\n",
    "    # df[\"tag\"] = df.status_code.map(lambda c: \"error\" if c != 200 else \"content\" )\n",
    "    \n",
    "    # Tokenize and clean tokens to generate the documents\n",
    "    text_stream = [nltk.word_tokenize(d.lower()) for d in df.text.tolist()]\n",
    "    \n",
    "    clean_streams = [list(clean_term_sentence(ts)) for ts in text_stream]\n",
    "\n",
    "    documents = [\" \".join(ts) for ts in clean_streams]\n",
    "\n",
    "\n",
    "    doc_vectors = vectorizer.transform(documents).toarray()\n",
    "    labels = df[\"label\"].tolist()\n",
    "\n",
    "    return doc_vectors, labels"
   ]
  },
  {
   "cell_type": "code",
   "execution_count": 31,
   "metadata": {
    "execution": {
     "iopub.execute_input": "2024-12-26T22:43:02.287557Z",
     "iopub.status.busy": "2024-12-26T22:43:02.287253Z",
     "iopub.status.idle": "2024-12-26T22:43:02.712570Z",
     "shell.execute_reply": "2024-12-26T22:43:02.711414Z",
     "shell.execute_reply.started": "2024-12-26T22:43:02.287531Z"
    }
   },
   "outputs": [],
   "source": [
    "X_real, y_real = preprocess_test_dataset(\"/kaggle/input/dataset-test.csv\", my_vectorizer) "
   ]
  },
  {
   "cell_type": "code",
   "execution_count": 32,
   "metadata": {
    "execution": {
     "iopub.execute_input": "2024-12-26T22:43:02.713992Z",
     "iopub.status.busy": "2024-12-26T22:43:02.713577Z",
     "iopub.status.idle": "2024-12-26T22:43:02.720961Z",
     "shell.execute_reply": "2024-12-26T22:43:02.719812Z",
     "shell.execute_reply.started": "2024-12-26T22:43:02.713959Z"
    }
   },
   "outputs": [
    {
     "data": {
      "text/plain": [
       "array([[0., 0., 0., ..., 0., 0., 0.],\n",
       "       [0., 0., 0., ..., 0., 0., 0.],\n",
       "       [0., 0., 0., ..., 0., 0., 0.],\n",
       "       ...,\n",
       "       [0., 0., 0., ..., 0., 0., 0.],\n",
       "       [0., 0., 0., ..., 0., 0., 0.],\n",
       "       [0., 0., 0., ..., 0., 0., 0.]])"
      ]
     },
     "execution_count": 32,
     "metadata": {},
     "output_type": "execute_result"
    }
   ],
   "source": [
    "X_real"
   ]
  },
  {
   "cell_type": "code",
   "execution_count": 33,
   "metadata": {
    "execution": {
     "iopub.execute_input": "2024-12-26T22:43:02.722790Z",
     "iopub.status.busy": "2024-12-26T22:43:02.722391Z",
     "iopub.status.idle": "2024-12-26T22:43:03.183847Z",
     "shell.execute_reply": "2024-12-26T22:43:03.182432Z",
     "shell.execute_reply.started": "2024-12-26T22:43:02.722751Z"
    }
   },
   "outputs": [
    {
     "name": "stdout",
     "output_type": "stream",
     "text": [
      "Model GaussianNB\n",
      "Accuracy: 0.6829268292682927\n",
      "Precision: 0.6864406779661016\n",
      "Recall: 0.7431192660550459\n",
      "F1: 0.7136563876651982\n"
     ]
    },
    {
     "data": {
      "image/png": "[encoded data removed]",
      "text/plain": [
       "<Figure size 640x480 with 2 Axes>"
      ]
     },
     "metadata": {},
     "output_type": "display_data"
    }
   ],
   "source": [
    "nb_y_real_pred = nb_classifier.predict(X_real)\n",
    "show_metrics(\"GaussianNB\", y_real, nb_y_real_pred)"
   ]
  },
  {
   "cell_type": "code",
   "execution_count": 34,
   "metadata": {
    "execution": {
     "iopub.execute_input": "2024-12-26T22:43:03.185786Z",
     "iopub.status.busy": "2024-12-26T22:43:03.185324Z",
     "iopub.status.idle": "2024-12-26T22:43:03.568347Z",
     "shell.execute_reply": "2024-12-26T22:43:03.567029Z",
     "shell.execute_reply.started": "2024-12-26T22:43:03.185746Z"
    }
   },
   "outputs": [
    {
     "name": "stdout",
     "output_type": "stream",
     "text": [
      "Model LogisticRegression\n",
      "Accuracy: 0.8634146341463415\n",
      "Precision: 1.0\n",
      "Recall: 0.7431192660550459\n",
      "F1: 0.8526315789473684\n"
     ]
    },
    {
     "data": {
      "image/png": "[encoded data removed]",
      "text/plain": [
       "<Figure size 640x480 with 2 Axes>"
      ]
     },
     "metadata": {},
     "output_type": "display_data"
    }
   ],
   "source": [
    "logreg_y_real_pred = logreg_model.predict(X_real)\n",
    "show_metrics(\"LogisticRegression\", y_real, logreg_y_real_pred)"
   ]
  },
  {
   "cell_type": "code",
   "execution_count": 35,
   "metadata": {
    "execution": {
     "iopub.execute_input": "2024-12-26T22:43:03.570693Z",
     "iopub.status.busy": "2024-12-26T22:43:03.569845Z",
     "iopub.status.idle": "2024-12-26T22:43:03.970570Z",
     "shell.execute_reply": "2024-12-26T22:43:03.969427Z",
     "shell.execute_reply.started": "2024-12-26T22:43:03.570640Z"
    }
   },
   "outputs": [
    {
     "name": "stdout",
     "output_type": "stream",
     "text": [
      "Model LinearSVC\n",
      "Accuracy: 0.8780487804878049\n",
      "Precision: 1.0\n",
      "Recall: 0.7706422018348624\n",
      "F1: 0.8704663212435233\n"
     ]
    },
    {
     "data": {
      "image/png": "[encoded data removed]",
      "text/plain": [
       "<Figure size 640x480 with 2 Axes>"
      ]
     },
     "metadata": {},
     "output_type": "display_data"
    }
   ],
   "source": [
    "svc_y_real_pred = svc_model.predict(X_real)\n",
    "show_metrics(\"LinearSVC\", y_real, svc_y_real_pred)"
   ]
  },
  {
   "cell_type": "code",
   "execution_count": 36,
   "metadata": {
    "execution": {
     "iopub.execute_input": "2024-12-26T22:43:03.971894Z",
     "iopub.status.busy": "2024-12-26T22:43:03.971529Z",
     "iopub.status.idle": "2024-12-26T22:43:04.390923Z",
     "shell.execute_reply": "2024-12-26T22:43:04.389497Z",
     "shell.execute_reply.started": "2024-12-26T22:43:03.971859Z"
    }
   },
   "outputs": [
    {
     "name": "stdout",
     "output_type": "stream",
     "text": [
      "Model RandomForest\n",
      "Accuracy: 0.7560975609756098\n",
      "Precision: 0.8041237113402062\n",
      "Recall: 0.7155963302752294\n",
      "F1: 0.7572815533980582\n"
     ]
    },
    {
     "data": {
      "image/png": "[encoded data removed]",
      "text/plain": [
       "<Figure size 640x480 with 2 Axes>"
      ]
     },
     "metadata": {},
     "output_type": "display_data"
    }
   ],
   "source": [
    "rf_y_real_pred = rf_model.predict(X_real)\n",
    "show_metrics(\"RandomForest\", y_real, rf_y_real_pred)"
   ]
  },
  {
   "cell_type": "markdown",
   "metadata": {},
   "source": [
    "## Predictions study\n",
    "\n",
    "After evaluating the models against the test dataset, a review of SVC predictions (the best performance model) is done in order to check if we can detect some pattern of errors to improve the labelling of the test dataset."
   ]
  },
  {
   "cell_type": "code",
   "execution_count": 37,
   "metadata": {
    "execution": {
     "iopub.execute_input": "2024-12-26T22:43:04.393565Z",
     "iopub.status.busy": "2024-12-26T22:43:04.393102Z",
     "iopub.status.idle": "2024-12-26T22:43:04.423662Z",
     "shell.execute_reply": "2024-12-26T22:43:04.422859Z",
     "shell.execute_reply.started": "2024-12-26T22:43:04.393524Z"
    }
   },
   "outputs": [
    {
     "data": {
      "text/html": [
       "<div>\n",
       "<style scoped>\n",
       "    .dataframe tbody tr th:only-of-type {\n",
       "        vertical-align: middle;\n",
       "    }\n",
       "\n",
       "    .dataframe tbody tr th {\n",
       "        vertical-align: top;\n",
       "    }\n",
       "\n",
       "    .dataframe thead th {\n",
       "        text-align: right;\n",
       "    }\n",
       "</style>\n",
       "<table border=\"1\" class=\"dataframe\">\n",
       "  <thead>\n",
       "    <tr style=\"text-align: right;\">\n",
       "      <th></th>\n",
       "      <th>label</th>\n",
       "      <th>status_code</th>\n",
       "      <th>content_type</th>\n",
       "      <th>url</th>\n",
       "      <th>size</th>\n",
       "      <th>title</th>\n",
       "      <th>text</th>\n",
       "      <th>pred</th>\n",
       "    </tr>\n",
       "  </thead>\n",
       "  <tbody>\n",
       "    <tr>\n",
       "      <th>0</th>\n",
       "      <td>content</td>\n",
       "      <td>200</td>\n",
       "      <td>text/html</td>\n",
       "      <td>https://1000uglypeople.com/e7aef43b-edde-490a-...</td>\n",
       "      <td>0</td>\n",
       "      <td>NaN</td>\n",
       "      <td>Loading...</td>\n",
       "      <td>content</td>\n",
       "    </tr>\n",
       "    <tr>\n",
       "      <th>1</th>\n",
       "      <td>content</td>\n",
       "      <td>200</td>\n",
       "      <td>text/html</td>\n",
       "      <td>https://500px.com/e7aef43b-edde-490a-a95f-a31d...</td>\n",
       "      <td>0</td>\n",
       "      <td>NaN</td>\n",
       "      <td>500px\\tYou need to enable JavaScript to run th...</td>\n",
       "      <td>content</td>\n",
       "    </tr>\n",
       "    <tr>\n",
       "      <th>2</th>\n",
       "      <td>content</td>\n",
       "      <td>200</td>\n",
       "      <td>text/html</td>\n",
       "      <td>https://35awards.com/e7aef43b-edde-490a-a95f-a...</td>\n",
       "      <td>0</td>\n",
       "      <td>NaN</td>\n",
       "      <td>Annual photography contest 10th 35AWARDS - 100...</td>\n",
       "      <td>content</td>\n",
       "    </tr>\n",
       "    <tr>\n",
       "      <th>3</th>\n",
       "      <td>error</td>\n",
       "      <td>200</td>\n",
       "      <td>text/html</td>\n",
       "      <td>http://12121.hostinguk.com/e7aef43b-edde-490a-...</td>\n",
       "      <td>0</td>\n",
       "      <td>NaN</td>\n",
       "      <td>404 Error - Customer Page Not Found | Hosting UK</td>\n",
       "      <td>error</td>\n",
       "    </tr>\n",
       "    <tr>\n",
       "      <th>4</th>\n",
       "      <td>error</td>\n",
       "      <td>200</td>\n",
       "      <td>text/html</td>\n",
       "      <td>https://aaft.com/e7aef43b-edde-490a-a95f-a31d9...</td>\n",
       "      <td>0</td>\n",
       "      <td>NaN</td>\n",
       "      <td>html\\tError! 404\\tError! 404\\tContact\\tUs</td>\n",
       "      <td>error</td>\n",
       "    </tr>\n",
       "    <tr>\n",
       "      <th>...</th>\n",
       "      <td>...</td>\n",
       "      <td>...</td>\n",
       "      <td>...</td>\n",
       "      <td>...</td>\n",
       "      <td>...</td>\n",
       "      <td>...</td>\n",
       "      <td>...</td>\n",
       "      <td>...</td>\n",
       "    </tr>\n",
       "    <tr>\n",
       "      <th>200</th>\n",
       "      <td>error</td>\n",
       "      <td>200</td>\n",
       "      <td>text/html</td>\n",
       "      <td>https://theboreds.com/e7aef43b-edde-490a-a95f-...</td>\n",
       "      <td>0</td>\n",
       "      <td>NaN</td>\n",
       "      <td>Coming Soon\\ttheboreds.com</td>\n",
       "      <td>error</td>\n",
       "    </tr>\n",
       "    <tr>\n",
       "      <th>201</th>\n",
       "      <td>error</td>\n",
       "      <td>200</td>\n",
       "      <td>text/html</td>\n",
       "      <td>https://www.theninja-rpg.com/e7aef43b-edde-490...</td>\n",
       "      <td>0</td>\n",
       "      <td>NaN</td>\n",
       "      <td>TheNinja-RPG.com - a free browser based mmorpg...</td>\n",
       "      <td>error</td>\n",
       "    </tr>\n",
       "    <tr>\n",
       "      <th>202</th>\n",
       "      <td>error</td>\n",
       "      <td>200</td>\n",
       "      <td>application/octet-stream</td>\n",
       "      <td>https://themarshallplan.net/e7aef43b-edde-490a...</td>\n",
       "      <td>0</td>\n",
       "      <td>NaN</td>\n",
       "      <td>themarshallplan.net\\tthemarshallplan.net\\tComi...</td>\n",
       "      <td>error</td>\n",
       "    </tr>\n",
       "    <tr>\n",
       "      <th>203</th>\n",
       "      <td>error</td>\n",
       "      <td>200</td>\n",
       "      <td>text/html</td>\n",
       "      <td>http://www.thespamletters.com/e7aef43b-edde-49...</td>\n",
       "      <td>0</td>\n",
       "      <td>NaN</td>\n",
       "      <td>Web Page Under Construction\\tThis Site Is Unde...</td>\n",
       "      <td>error</td>\n",
       "    </tr>\n",
       "    <tr>\n",
       "      <th>204</th>\n",
       "      <td>error</td>\n",
       "      <td>200</td>\n",
       "      <td>text/html</td>\n",
       "      <td>https://thevitalvoice.com/e7aef43b-edde-490a-a...</td>\n",
       "      <td>0</td>\n",
       "      <td>NaN</td>\n",
       "      <td>Please refresh the page. or close your browser...</td>\n",
       "      <td>content</td>\n",
       "    </tr>\n",
       "  </tbody>\n",
       "</table>\n",
       "<p>205 rows × 8 columns</p>\n",
       "</div>"
      ],
      "text/plain": [
       "       label  status_code              content_type  \\\n",
       "0    content          200                 text/html   \n",
       "1    content          200                 text/html   \n",
       "2    content          200                 text/html   \n",
       "3      error          200                 text/html   \n",
       "4      error          200                 text/html   \n",
       "..       ...          ...                       ...   \n",
       "200    error          200                 text/html   \n",
       "201    error          200                 text/html   \n",
       "202    error          200  application/octet-stream   \n",
       "203    error          200                 text/html   \n",
       "204    error          200                 text/html   \n",
       "\n",
       "                                                   url  size  title  \\\n",
       "0    https://1000uglypeople.com/e7aef43b-edde-490a-...     0    NaN   \n",
       "1    https://500px.com/e7aef43b-edde-490a-a95f-a31d...     0    NaN   \n",
       "2    https://35awards.com/e7aef43b-edde-490a-a95f-a...     0    NaN   \n",
       "3    http://12121.hostinguk.com/e7aef43b-edde-490a-...     0    NaN   \n",
       "4    https://aaft.com/e7aef43b-edde-490a-a95f-a31d9...     0    NaN   \n",
       "..                                                 ...   ...    ...   \n",
       "200  https://theboreds.com/e7aef43b-edde-490a-a95f-...     0    NaN   \n",
       "201  https://www.theninja-rpg.com/e7aef43b-edde-490...     0    NaN   \n",
       "202  https://themarshallplan.net/e7aef43b-edde-490a...     0    NaN   \n",
       "203  http://www.thespamletters.com/e7aef43b-edde-49...     0    NaN   \n",
       "204  https://thevitalvoice.com/e7aef43b-edde-490a-a...     0    NaN   \n",
       "\n",
       "                                                  text     pred  \n",
       "0                                           Loading...  content  \n",
       "1    500px\\tYou need to enable JavaScript to run th...  content  \n",
       "2    Annual photography contest 10th 35AWARDS - 100...  content  \n",
       "3     404 Error - Customer Page Not Found | Hosting UK    error  \n",
       "4            html\\tError! 404\\tError! 404\\tContact\\tUs    error  \n",
       "..                                                 ...      ...  \n",
       "200                         Coming Soon\\ttheboreds.com    error  \n",
       "201  TheNinja-RPG.com - a free browser based mmorpg...    error  \n",
       "202  themarshallplan.net\\tthemarshallplan.net\\tComi...    error  \n",
       "203  Web Page Under Construction\\tThis Site Is Unde...    error  \n",
       "204  Please refresh the page. or close your browser...  content  \n",
       "\n",
       "[205 rows x 8 columns]"
      ]
     },
     "execution_count": 37,
     "metadata": {},
     "output_type": "execute_result"
    }
   ],
   "source": [
    "df_real = pd.read_csv(\"/kaggle/input/dataset-test.csv\")\n",
    "df_real[\"pred\"] = svc_y_real_pred\n",
    "df_real"
   ]
  },
  {
   "cell_type": "code",
   "execution_count": 38,
   "metadata": {
    "execution": {
     "iopub.execute_input": "2024-12-26T22:43:04.424515Z",
     "iopub.status.busy": "2024-12-26T22:43:04.424230Z",
     "iopub.status.idle": "2024-12-26T22:43:04.434010Z",
     "shell.execute_reply": "2024-12-26T22:43:04.432976Z",
     "shell.execute_reply.started": "2024-12-26T22:43:04.424490Z"
    }
   },
   "outputs": [
    {
     "data": {
      "text/plain": [
       "25"
      ]
     },
     "execution_count": 38,
     "metadata": {},
     "output_type": "execute_result"
    }
   ],
   "source": [
    "df_diff = df_real.query(\"label != pred\")\n",
    "len(df_diff)"
   ]
  },
  {
   "cell_type": "code",
   "execution_count": 39,
   "metadata": {
    "execution": {
     "iopub.execute_input": "2024-12-26T22:43:04.435519Z",
     "iopub.status.busy": "2024-12-26T22:43:04.435186Z",
     "iopub.status.idle": "2024-12-26T22:43:04.506264Z",
     "shell.execute_reply": "2024-12-26T22:43:04.505126Z",
     "shell.execute_reply.started": "2024-12-26T22:43:04.435487Z"
    }
   },
   "outputs": [
    {
     "name": "stdout",
     "output_type": "stream",
     "text": [
      "Status code: 200\n",
      "Label: error\n",
      "Predicted: content\n",
      "Content_type: text/html\n",
      "URL: https://andyriga.wordpress.com/e7aef43b-edde-490a-a95f-a31d978d2bee\n",
      "Text:\n",
      "Private Site\tBuild a website. Sell your stuff. Write a blog. And so much more.\tLog in\tStart your website\tPrivate Site\tThis site is currently private.\tLog in to WordPress.com\tto request access.\n",
      "\n",
      "========================================\n",
      "\n",
      "Status code: 200\n",
      "Label: error\n",
      "Predicted: content\n",
      "Content_type: text/html\n",
      "URL: https://aqicn.org/e7aef43b-edde-490a-a95f-a31d978d2bee\n",
      "Text:\n",
      "China Air Pollution: Real-time Air Quality Index (AQI)\thome\tHere\tmap\tmask\tfaq\tsearch\tcontact\tlinks\t404!\tEnter a city name\t↓ ↓ ↓\tor let us find your nearest air quality monitoring station\tPlease wait while querying your location...\tPreviously visited stations:\tAbout the Air Quality Levels\tAQI\tAir Pollution Level\tHealth Implications\tCautionary Statement (for PM2.5)\t0 - 50\tGood\tAir quality is considered satisfactory, and air pollution poses little or no risk\tNone\t51 -100\tModerate\tAir quality is acceptable; however, for some pollutants there may be a moderate health concern for a very small number of people who are unusually sensitive to air pollution.\tActive children and adults, and people with respiratory disease, such as asthma, should limit prolonged outdoor exertion.\t101-150\tUnhealthy for Sensitive Groups\tMembers of sensitive groups may experience health effects. The general public is not likely to be affected.\tActive children and adults, and people with respiratory disease, such as asthma, should limit prolonged outdoor exertion.\t151-200\tUnhealthy\tEveryone may begin to experience health effects; members of sensitive groups may experience more serious health effects\tActive children and adults, and people with respiratory disease, such as asthma, should avoid prolonged outdoor exertion; everyone else, especially children, should limit prolonged outdoor exertion\t201-300\tVery Unhealthy\tHealth warnings of emergency conditions. The entire population is more likely to be affected.\tActive children and adults, and people with respiratory disease, such as asthma, should avoid all outdoor exertion; everyone else, especially children, should limit outdoor exertion.\t300+\tHazardous\tHealth alert: everyone may experience more serious health effects\tEveryone should avoid all outdoor exertion\tTo know more about Air Quality and Pollution, check the\twikipedia Air Quality topic\tor the\tairnow guide to Air Quality and Your Health\t.\tFor very useful health advices of Beijing Doctor Richard Saint Cyr MD, check\twww.myhealthbeijing.com\tblog.\tUsage Notice\t: All the Air Quality data are unvalidated at the time of publication, and due to quality assurance these data may be amended, without notice, at any time. The World Air Quality Index project has exercised all reasonable skill and care in compiling the contents of this information and under no circumstances will the World Air Quality Index project team or its agents be liable in contract, tort or otherwise for any loss, injury or damage arising directly or indirectly from the supply of this data.\n",
      "\n",
      "========================================\n",
      "\n",
      "Status code: 200\n",
      "Label: error\n",
      "Predicted: content\n",
      "Content_type: text/html\n",
      "URL: http://clubelo.com/e7aef43b-edde-490a-a95f-a31d978d2bee\n",
      "Text:\n",
      "Football Club Elo Ratings\t<\tSat, Dec 7th, 2024\t>\tRanking\tCoaches\t(\tactive\t)\tGames (\tResults\t-\tFixtures\t)\tEurope\tUCL\t(36 teams)\t⌀1774\tUEL\t(36 teams)\t⌀1629\tECL\t(34 teams)\t⌀1449\tEngland\tLevel 1 (20 teams)\t⌀1771\tLevel 2 (24 teams)\t⌀1492\tItaly\tLevel 1 (20 teams)\t⌀1720\tLevel 2 (20 teams)\t⌀1472\tSpain\tLevel 1 (20 teams)\t⌀1679\tLevel 2 (22 teams)\t⌀1475\tGermany\tLevel 1 (18 teams)\t⌀1691\tLevel 2 (18 teams)\t⌀1461\tFrance\tLevel 1 (18 teams)\t⌀1660\tLevel 2 (18 teams)\t⌀1431\tPortugal\tLevel 1 (18 teams)\t⌀1520\tNetherlands\tLevel 1 (18 teams)\t⌀1494\tCzechia\tLevel 1 (16 teams)\t⌀1427\tScotland\tLevel 1 (12 teams)\t⌀1378\tBelgium\tLevel 1 (16 teams)\t⌀1517\tTurkey\tLevel 1 (19 teams)\t⌀1420\tRussia\tLevel 1 (16 teams)\t⌀1450\tGreece\tLevel 1 (14 teams)\t⌀1370\tSerbia\tLevel 1 (16 teams)\t⌀1185\tDenmark\tLevel 1 (12 teams)\t⌀1456\tAustria\tLevel 1 (12 teams)\t⌀1406\tNorway\tLevel 1 (16 teams)\t⌀1377\tUkraine\tLevel 1 (16 teams)\t⌀1277\tPoland\tLevel 1 (18 teams)\t⌀1412\tCroatia\tLevel 1 (10 teams)\t⌀1351\tIsrael\tLevel 1 (14 teams)\t⌀1326\tAzerbaijan\tBulgaria\tLevel 1 (16 teams)\t⌀1222\tSwitzerland\tLevel 1 (12 teams)\t⌀1401\tHungary\tLevel 1 (12 teams)\t⌀1317\tSweden\tLevel 1 (16 teams)\t⌀1360\tRomania\tLevel 1 (16 teams)\t⌀1313\tSlovenia\tLevel 1 (10 teams)\t⌀1266\tCyprus\tSlovakia\tMoldova\tKazakhstan\tArmenia\tBosnia-Herzegovina\tLatvia\tFinland\tIreland\tIceland\tKosovo\tBelarus\tLithuania\tGeorgia\tNorth Macedonia\tFaroe Islands\tAlbania\tEstonia\tWales\tMalta\tNorthern Ireland\tMontenegro\tLuxembourg\tAndorra\tGibraltar\tSan Marino\t404 - Request not recognised\n",
      "\n",
      "========================================\n",
      "\n",
      "Status code: 200\n",
      "Label: error\n",
      "Predicted: content\n",
      "Content_type: text/html\n",
      "URL: https://dearreid.wordpress.com/e7aef43b-edde-490a-a95f-a31d978d2bee\n",
      "Text:\n",
      "Private Site\tBuild a website. Sell your stuff. Write a blog. And so much more.\tLog in\tStart your website\tPrivate Site\tThis site is currently private.\tLog in to WordPress.com\tto request access.\n",
      "\n",
      "========================================\n",
      "\n",
      "Status code: 200\n",
      "Label: error\n",
      "Predicted: content\n",
      "Content_type: text/html\n",
      "URL: https://dos.liquiddoom.net/e7aef43b-edde-490a-a95f-a31d978d2bee\n",
      "Text:\n",
      "Cannot read from language file:\t./ai/languages/ en.txt\n",
      "\n",
      "========================================\n",
      "\n",
      "Status code: 200\n",
      "Label: error\n",
      "Predicted: content\n",
      "Content_type: text/html\n",
      "URL: https://evolution.genetics.washington.edu/e7aef43b-edde-490a-a95f-a31d978d2bee\n",
      "Text:\n",
      "Felsenstein/Kuhner lab\tThese web pages have moved, as of 31 August 2023.\tIf you want to find:\tThe PHYLIP web pages, go here:\thttps://phylipweb.github.io/phylip/\tThe LAMARC web pages, go here:\thttps://lamarcweb.github.io/lamarcweb/\tJoe Felsenstein's web pages, go here:\thttps://felsenst.github.io/\tKeep these addresses in mind, in case you need to go back to them.\tIt will take search engines such as Google a while to realize That these are the main locations of those pages.\tNotices added in compliance with University of Washington requirements for web sites hosted at the University:\tPrivacy\tTerms\n",
      "\n",
      "========================================\n",
      "\n",
      "Status code: 200\n",
      "Label: error\n",
      "Predicted: content\n",
      "Content_type: text/html\n",
      "URL: https://furry.org.au/e7aef43b-edde-490a-a95f-a31d978d2bee\n",
      "Text:\n",
      "Find The Best Online Casinos in Australia\tIt seems you're looking for a place to play online casino games. We recommend visiting our site, where you'll find the\tbest online casinos in Australia\t.\n",
      "\n",
      "========================================\n",
      "\n",
      "Status code: 200\n",
      "Label: error\n",
      "Predicted: content\n",
      "Content_type: text/html\n",
      "URL: https://www.grandys.com/e7aef43b-edde-490a-a95f-a31d978d2bee\n",
      "Text:\n",
      "jos-Error\t: Category not found\tJSite -> dispatch() @ D:\\Webs\\www.Grandys.com\\index.php:42\tJComponentHelper :: renderComponent() @ D:\\Webs\\www.Grandys.com\\includes\\application.php:194\tJComponentHelper :: executeComponent() @ D:\\Webs\\www.Grandys.com\\libraries\\joomla\\application\\component\\helper.php:348\trequire_once() @ D:\\Webs\\www.Grandys.com\\libraries\\joomla\\application\\component\\helper.php:380\tJController -> execute() @ D:\\Webs\\www.Grandys.com\\components\\com_content\\content.php:16\tContentController -> display() @ D:\\Webs\\www.Grandys.com\\libraries\\joomla\\application\\component\\controller.php:761\tJController -> display() @ D:\\Webs\\www.Grandys.com\\components\\com_content\\controller.php:74\tContentViewCategory -> display() @ D:\\Webs\\www.Grandys.com\\libraries\\joomla\\application\\component\\controller.php:722\tJError :: raiseError() @ D:\\Webs\\www.Grandys.com\\components\\com_content\\views\\category\\view.html.php:59\tJError :: raise() @ D:\\Webs\\www.Grandys.com\\libraries\\joomla\\error\\error.php:251\n",
      "\n",
      "========================================\n",
      "\n",
      "Status code: 200\n",
      "Label: error\n",
      "Predicted: content\n",
      "Content_type: text/html\n",
      "URL: http://giantdatabase.com/e7aef43b-edde-490a-a95f-a31d978d2bee\n",
      "Text:\n",
      "GiantDatabase.com Message Response\n",
      "\n",
      "========================================\n",
      "\n",
      "Status code: 200\n",
      "Label: error\n",
      "Predicted: content\n",
      "Content_type: text/html\n",
      "URL: https://hags-club.com/e7aef43b-edde-490a-a95f-a31d978d2bee\n",
      "Text:\n",
      "ACHTUNG!\tHAGS-CLUB.\tNET\tSCAM WARNING\tThe site Hags-club.\tnet\tis a SCAM, do not buy anything from there We are still offline, join the discord for any information\tdiscord:\thttps://discord.gg/ernVkhXarM\tHAGS-CLUB.\tNET\tSCAM WARNING\tThe site Hags-club.\tnet\tis a SCAM, do not buy anything from there We are still offline, join the discord for any information\tdiscord:\thttps://discord.gg/ernVkhXarM\n",
      "\n",
      "========================================\n",
      "\n",
      "Status code: 200\n",
      "Label: error\n",
      "Predicted: content\n",
      "Content_type: text/html\n",
      "URL: https://h2g2.com/e7aef43b-edde-490a-a95f-a31d978d2bee\n",
      "Text:\n",
      "h2g2 - Oops.\tUnable to find your page\tOh dear.\tSorry about this.\tThis isn't at all what's supposed to happen.\tThis is exactly the sort of thing that can cause stress and anxiety.\tThose are not good things.\tHave a look at this calming image that we've chosen just for occasions such as this. Hopefully it will help keep you calm while we look into the problem.\tWe apologise for this interruption in your surfing, and hope the tide comes back in soon.\tA place to share knowledge and celebrate the things you love by writing about them\tWe have the first snowflake. Now let's build a blizzard\th2g2 founder\tDouglas Adams\th2g2 FAQs\tInfinite Improbability Drive\tRead a random Edited Entry\tWhat are Edited Entries?\tFollow Us\tFacebook\tBecome a fan of h2g2\tTwitter\tFollow h2g2\n",
      "\n",
      "========================================\n",
      "\n",
      "Status code: 200\n",
      "Label: error\n",
      "Predicted: content\n",
      "Content_type: text/html\n",
      "URL: https://hosted.ap.org/e7aef43b-edde-490a-a95f-a31d978d2bee\n",
      "Text:\n",
      "*** Please visit to new Hosted site https://hosted.ap.org ***\n",
      "\n",
      "========================================\n",
      "\n",
      "Status code: 200\n",
      "Label: error\n",
      "Predicted: content\n",
      "Content_type: text/html\n",
      "URL: https://lastrefuge.co.uk/e7aef43b-edde-490a-a95f-a31d978d2bee\n",
      "Text:\n",
      "Last Refuge: Film, Images, Aerials and Publishing\t[\tHome\t] [\tAerial Photography\t] [\tAerial Filming\t] [\tPhoto Library\t] [\tFilm Library\t] [\tSound Library\t] [\tPublishing\t] [\tFilm Making\t]\t[\tLatest Images\t] [\tA-Z Subject List\t] [\tPhotographers\t] [\tPrints\t] [\tPricing\t] [\tArticles\t] [\tContact Us\t] [\tAbout Us\t] [\tLinks\t] [\tSite Map\t]\tABOUT LAST REFUGE\tLast Refuge is no longer active, information on this website is for historic reference only as a tribut to Adrian Warren.\tOur Photo and Film Libray are available to download and purchased on our new website:\thttps://sasyimages.com\t_________________________________\tFollowing 9 months battle with the aggressive Melanoma, Adrian had lost his fight on 5th June 2011. He will be greatly missed by us all, please visit his tribute page to read more about the account of his illness to post your tribute and to see some of his happy memories...\tLast Refuge Ltd. is a small Company dedicated to the support of endangered environments and species in our changing world, through films, images and research. We are also involved in aerial filming and photography. Over the past eight years, we have built a large archive of aerial photographs of Britain, and with our wing mount for Cessna aircraft, we facilitate remote sensing, infrared and mapping surveys internationally.\tLast Refuge was established in 1992, while studying the plight of surviving wild Giant Pandas in the Qinling Mountains of Central China. Since that time, we have worked on projects in Ecuador, Venezuela, Guyana, Madagascar, Namibia, Tanzania, Mali, Morocco, Rwanda, Congo, Malaysia, Thailand, Europe, North America, and the United Kingdom.\t2009 began with filming Dr George Schaller and mountain gorillas in Rwanda for\tNational Geographic\t. Our new book\t‘The Living Coast’\t, an aerial journey around Britain’s coastline, had been published just before Christmas. It was our fourteenth aerial book since 2002. At home, work continued on building\twing mounts\tfor clients in Germany and Holland one to carry the\tRed One\tcamera and the other a\tFLIR\tpackage for an energy conservation project. We carried out flight tests with a mount installed on a\tCessna 208B Caravan\tand worked with EASA and FAA in order to expand our list of aircraft on our STC clearance. We are also working on new designs with varying degrees of stabilization, and with camera housings, for use in movie, stills and other aerial sensing applications. In May, we attended the wrap party and premiere of\tPixar Animation Studios\tproduction\t‘UP’\twhich we had been consulting on since 2006. For still photography, we finally took the plunge to digital, after using\tHasselblad\tmedium format film for 30 years, with a\tHasselblad\tH3DII 50 megapixel system. We immediately used this on a trip to Venezuela, partly research, partly a recce for a new film project, together with a shoot for a travel company. Our stills archive continues to expand and our\tImacon\tscanner has been working full time.\tPHOTO LIBRARY\tSearch, Buy and Download Images from our new website sasyimages.com here\tFILM LIBRARY\tSearch and Order film footage here\tContact us\tE-mail:\tdae@sasyimages.com\tCompany\tAbout us\t⎮\tWebsite terms\t⎮\tPrivacy policy ⎮\tLi\tcence information ⎮\tSite map\tAll contents © 2020 Sasy Images Limited\n",
      "\n",
      "========================================\n",
      "\n",
      "Status code: 200\n",
      "Label: error\n",
      "Predicted: content\n",
      "Content_type: text/html\n",
      "URL: https://librivox.org/e7aef43b-edde-490a-a95f-a31d978d2bee\n",
      "Text:\n",
      "LibriVox\tBrowse the catalog\n",
      "\n",
      "========================================\n",
      "\n",
      "Status code: 200\n",
      "Label: error\n",
      "Predicted: content\n",
      "Content_type: text/html\n",
      "URL: http://library.newmusicusa.org/e7aef43b-edde-490a-a95f-a31d978d2bee\n",
      "Text:\n",
      "The Online Library | New Music USA\n",
      "\n",
      "========================================\n",
      "\n",
      "Status code: 200\n",
      "Label: error\n",
      "Predicted: content\n",
      "Content_type: text/html\n",
      "URL: https://marketsci.wordpress.com/e7aef43b-edde-490a-a95f-a31d978d2bee\n",
      "Text:\n",
      "Private Site\tBuild a website. Sell your stuff. Write a blog. And so much more.\tLog in\tStart your website\tPrivate Site\tThis site is currently private.\tLog in to WordPress.com\tto request access.\n",
      "\n",
      "========================================\n",
      "\n",
      "Status code: 200\n",
      "Label: error\n",
      "Predicted: content\n",
      "Content_type: text/html\n",
      "URL: https://members.shaw.ca/e7aef43b-edde-490a-a95f-a31d978d2bee\n",
      "Text:\n",
      "Shaw Communications\tMembers Webspace has been retired\tPlease visit\twww.shaw.ca/appretirement\tfor more details.\n",
      "\n",
      "========================================\n",
      "\n",
      "Status code: 200\n",
      "Label: error\n",
      "Predicted: content\n",
      "Content_type: text/html\n",
      "URL: https://mlb.mlb.com/e7aef43b-edde-490a-a95f-a31d978d2bee\n",
      "Text:\n",
      "mlb.mlb.com does not support HTTPS requests\n",
      "\n",
      "========================================\n",
      "\n",
      "Status code: 200\n",
      "Label: error\n",
      "Predicted: content\n",
      "Content_type: text/html\n",
      "URL: https://nzbfriends.com/e7aef43b-edde-490a-a95f-a31d978d2bee\n",
      "Text:\n",
      "* Usenet NZB Search results\tHome\tNewsgroups\tDE\tNo collections found\tRelated search requests for «*»:\t** watch 13 yo. girls! *\t*11yo*\t*3yo*\t*5yo*\t*6y*\t*6yo*\t*7yo*\t*8yo*\t*9yo*\t*animals\t*preteen\t*pthc*\t*thc\t1*yo\t10y*\t10yo*\t12y*\t12yo*\t13y*\t14y*\t9yo*\tDrugged *yo\tGirls 12-13 y.o.! *\tKids f**k\tKidz*\tPedo*\tPre*\tPth*\tPthc *.avi\tPthc*\t[]\tFRIENDS\t:\tUsenetReviewz\t\tFindNZB\t\tBiNZB\t\tNZBid\t\tNZBScout\t2011-2024\t© NZBFriends\t\tDMCA\t\tDisclaimer\t\tContact\t\tSitemap\n",
      "\n",
      "========================================\n",
      "\n",
      "Status code: 200\n",
      "Label: error\n",
      "Predicted: content\n",
      "Content_type: text/html\n",
      "URL: https://pawpet.tv/e7aef43b-edde-490a-a95f-a31d978d2bee\n",
      "Text:\n",
      "e7aef43b-edde-490a-a95f-a31d978d2bee [Funday Pawpet Show]\te7aef43b-edde-490a-a95f-a31d978d2bee\tThis topic does not exist yet\tYou've followed a link to a topic that doesn't exist yet. If permissions allow, you may create it by clicking on\tCreate this page\t.\n",
      "\n",
      "========================================\n",
      "\n",
      "Status code: 200\n",
      "Label: error\n",
      "Predicted: content\n",
      "Content_type: text/html\n",
      "URL: https://www.pch.com/e7aef43b-edde-490a-a95f-a31d978d2bee\n",
      "Text:\n",
      "Come back soon to PCH.com!\tWe appreciate your interest in Publishers Clearing House.\tUnfortunately at this time we are unable to process international online transactions. Please keep in mind that under the official rules for Publishers Clearing House there are geographic limitations to entry into our promotions, contests and giveaways.\tYour public IP address is: 141.98.252.230.\t©\tPublishers Clearing House\n",
      "\n",
      "========================================\n",
      "\n",
      "Status code: 200\n",
      "Label: error\n",
      "Predicted: content\n",
      "Content_type: text/html\n",
      "URL: https://petwork.wordpress.com/e7aef43b-edde-490a-a95f-a31d978d2bee\n",
      "Text:\n",
      "Private Site\tBuild a website. Sell your stuff. Write a blog. And so much more.\tLog in\tStart your website\tPrivate Site\tThis site is currently private.\tLog in to WordPress.com\tto request access.\n",
      "\n",
      "========================================\n",
      "\n",
      "Status code: 200\n",
      "Label: error\n",
      "Predicted: content\n",
      "Content_type: text/html\n",
      "URL: http://randolphcommunitytv.com/e7aef43b-edde-490a-a95f-a31d978d2bee\n",
      "Text:\n",
      "RANDOLPHCOMMUNITYTV.COM\n",
      "\n",
      "========================================\n",
      "\n",
      "Status code: 200\n",
      "Label: error\n",
      "Predicted: content\n",
      "Content_type: text/html\n",
      "URL: https://survivinginfidelity.com/e7aef43b-edde-490a-a95f-a31d978d2bee\n",
      "Text:\n",
      "Welcome to SurvivingInfidelity.com\twidth\tSurvivingInfidelity.com\t®\t\"You can survive this. Talk to others that have\"\tCookies on SurvivingInfidelity.com\t®\tSurvivingInfidelity.com\t®\tuses cookies to enhance your visit to our website. This is a requirement for participants to login, post and use other features. Visitors may opt out, but the website will be less functional for you.\taccept\tdecline\tabout cookies\tv.\t1.001.20241206b\t2002-2024 SurvivingInfidelity.com\t®\tAll Rights Reserved. &bullet;\tPrivacy Policy\n",
      "\n",
      "========================================\n",
      "\n",
      "Status code: 200\n",
      "Label: error\n",
      "Predicted: content\n",
      "Content_type: text/html\n",
      "URL: https://thevitalvoice.com/e7aef43b-edde-490a-a95f-a31d978d2bee\n",
      "Text:\n",
      "Please refresh the page. or close your browser, reopen, and then attempt to login to the admin site. this is the old version of the site. Call support if this does not work.\n",
      "\n",
      "========================================\n",
      "\n"
     ]
    }
   ],
   "source": [
    "for index, row in df_diff.iterrows():\n",
    "    print(\"Status code:\", row[\"status_code\"])\n",
    "    print(\"Label:\", row[\"label\"])\n",
    "    print(\"Predicted:\", row[\"pred\"])\n",
    "    print(\"Content_type:\", row[\"content_type\"])\n",
    "    print(\"URL:\", row[\"url\"])\n",
    "    print(\"Text:\\n{}\".format(row[\"text\"]))\n",
    "    print(\"\\n========================================\\n\")"
   ]
  },
  {
   "cell_type": "code",
   "execution_count": 40,
   "metadata": {
    "execution": {
     "iopub.execute_input": "2024-12-26T22:43:04.507621Z",
     "iopub.status.busy": "2024-12-26T22:43:04.507253Z",
     "iopub.status.idle": "2024-12-26T22:43:04.522794Z",
     "shell.execute_reply": "2024-12-26T22:43:04.521668Z",
     "shell.execute_reply.started": "2024-12-26T22:43:04.507585Z"
    }
   },
   "outputs": [
    {
     "data": {
      "text/html": [
       "<div>\n",
       "<style scoped>\n",
       "    .dataframe tbody tr th:only-of-type {\n",
       "        vertical-align: middle;\n",
       "    }\n",
       "\n",
       "    .dataframe tbody tr th {\n",
       "        vertical-align: top;\n",
       "    }\n",
       "\n",
       "    .dataframe thead th {\n",
       "        text-align: right;\n",
       "    }\n",
       "</style>\n",
       "<table border=\"1\" class=\"dataframe\">\n",
       "  <thead>\n",
       "    <tr style=\"text-align: right;\">\n",
       "      <th></th>\n",
       "      <th>label</th>\n",
       "      <th>status_code</th>\n",
       "      <th>content_type</th>\n",
       "      <th>url</th>\n",
       "      <th>size</th>\n",
       "      <th>title</th>\n",
       "      <th>text</th>\n",
       "      <th>pred</th>\n",
       "    </tr>\n",
       "  </thead>\n",
       "  <tbody>\n",
       "    <tr>\n",
       "      <th>12</th>\n",
       "      <td>error</td>\n",
       "      <td>200</td>\n",
       "      <td>text/html</td>\n",
       "      <td>https://andyriga.wordpress.com/e7aef43b-edde-4...</td>\n",
       "      <td>0</td>\n",
       "      <td>NaN</td>\n",
       "      <td>Private Site\\tBuild a website. Sell your stuff...</td>\n",
       "      <td>content</td>\n",
       "    </tr>\n",
       "    <tr>\n",
       "      <th>15</th>\n",
       "      <td>error</td>\n",
       "      <td>200</td>\n",
       "      <td>text/html</td>\n",
       "      <td>https://aqicn.org/e7aef43b-edde-490a-a95f-a31d...</td>\n",
       "      <td>0</td>\n",
       "      <td>NaN</td>\n",
       "      <td>China Air Pollution: Real-time Air Quality Ind...</td>\n",
       "      <td>content</td>\n",
       "    </tr>\n",
       "    <tr>\n",
       "      <th>38</th>\n",
       "      <td>error</td>\n",
       "      <td>200</td>\n",
       "      <td>text/html</td>\n",
       "      <td>http://clubelo.com/e7aef43b-edde-490a-a95f-a31...</td>\n",
       "      <td>0</td>\n",
       "      <td>NaN</td>\n",
       "      <td>Football Club Elo Ratings\\t&lt;\\tSat, Dec 7th, 20...</td>\n",
       "      <td>content</td>\n",
       "    </tr>\n",
       "    <tr>\n",
       "      <th>48</th>\n",
       "      <td>error</td>\n",
       "      <td>200</td>\n",
       "      <td>text/html</td>\n",
       "      <td>https://dearreid.wordpress.com/e7aef43b-edde-4...</td>\n",
       "      <td>0</td>\n",
       "      <td>NaN</td>\n",
       "      <td>Private Site\\tBuild a website. Sell your stuff...</td>\n",
       "      <td>content</td>\n",
       "    </tr>\n",
       "    <tr>\n",
       "      <th>55</th>\n",
       "      <td>error</td>\n",
       "      <td>200</td>\n",
       "      <td>text/html</td>\n",
       "      <td>https://dos.liquiddoom.net/e7aef43b-edde-490a-...</td>\n",
       "      <td>0</td>\n",
       "      <td>NaN</td>\n",
       "      <td>Cannot read from language file:\\t./ai/language...</td>\n",
       "      <td>content</td>\n",
       "    </tr>\n",
       "    <tr>\n",
       "      <th>69</th>\n",
       "      <td>error</td>\n",
       "      <td>200</td>\n",
       "      <td>text/html</td>\n",
       "      <td>https://evolution.genetics.washington.edu/e7ae...</td>\n",
       "      <td>0</td>\n",
       "      <td>NaN</td>\n",
       "      <td>Felsenstein/Kuhner lab\\tThese web pages have m...</td>\n",
       "      <td>content</td>\n",
       "    </tr>\n",
       "    <tr>\n",
       "      <th>83</th>\n",
       "      <td>error</td>\n",
       "      <td>200</td>\n",
       "      <td>text/html</td>\n",
       "      <td>https://furry.org.au/e7aef43b-edde-490a-a95f-a...</td>\n",
       "      <td>0</td>\n",
       "      <td>NaN</td>\n",
       "      <td>Find The Best Online Casinos in Australia\\tIt ...</td>\n",
       "      <td>content</td>\n",
       "    </tr>\n",
       "    <tr>\n",
       "      <th>93</th>\n",
       "      <td>error</td>\n",
       "      <td>200</td>\n",
       "      <td>text/html</td>\n",
       "      <td>https://www.grandys.com/e7aef43b-edde-490a-a95...</td>\n",
       "      <td>0</td>\n",
       "      <td>NaN</td>\n",
       "      <td>jos-Error\\t: Category not found\\tJSite -&gt; disp...</td>\n",
       "      <td>content</td>\n",
       "    </tr>\n",
       "    <tr>\n",
       "      <th>95</th>\n",
       "      <td>error</td>\n",
       "      <td>200</td>\n",
       "      <td>text/html</td>\n",
       "      <td>http://giantdatabase.com/e7aef43b-edde-490a-a9...</td>\n",
       "      <td>0</td>\n",
       "      <td>NaN</td>\n",
       "      <td>GiantDatabase.com Message Response</td>\n",
       "      <td>content</td>\n",
       "    </tr>\n",
       "    <tr>\n",
       "      <th>96</th>\n",
       "      <td>error</td>\n",
       "      <td>200</td>\n",
       "      <td>text/html</td>\n",
       "      <td>https://hags-club.com/e7aef43b-edde-490a-a95f-...</td>\n",
       "      <td>0</td>\n",
       "      <td>NaN</td>\n",
       "      <td>ACHTUNG!\\tHAGS-CLUB.\\tNET\\tSCAM WARNING\\tThe s...</td>\n",
       "      <td>content</td>\n",
       "    </tr>\n",
       "    <tr>\n",
       "      <th>99</th>\n",
       "      <td>error</td>\n",
       "      <td>200</td>\n",
       "      <td>text/html</td>\n",
       "      <td>https://h2g2.com/e7aef43b-edde-490a-a95f-a31d9...</td>\n",
       "      <td>0</td>\n",
       "      <td>NaN</td>\n",
       "      <td>h2g2 - Oops.\\tUnable to find your page\\tOh dea...</td>\n",
       "      <td>content</td>\n",
       "    </tr>\n",
       "    <tr>\n",
       "      <th>100</th>\n",
       "      <td>error</td>\n",
       "      <td>200</td>\n",
       "      <td>text/html</td>\n",
       "      <td>https://hosted.ap.org/e7aef43b-edde-490a-a95f-...</td>\n",
       "      <td>0</td>\n",
       "      <td>NaN</td>\n",
       "      <td>*** Please visit to new Hosted site https://ho...</td>\n",
       "      <td>content</td>\n",
       "    </tr>\n",
       "    <tr>\n",
       "      <th>122</th>\n",
       "      <td>error</td>\n",
       "      <td>200</td>\n",
       "      <td>text/html</td>\n",
       "      <td>https://lastrefuge.co.uk/e7aef43b-edde-490a-a9...</td>\n",
       "      <td>0</td>\n",
       "      <td>NaN</td>\n",
       "      <td>Last Refuge: Film, Images, Aerials and Publish...</td>\n",
       "      <td>content</td>\n",
       "    </tr>\n",
       "    <tr>\n",
       "      <th>123</th>\n",
       "      <td>error</td>\n",
       "      <td>200</td>\n",
       "      <td>text/html</td>\n",
       "      <td>https://librivox.org/e7aef43b-edde-490a-a95f-a...</td>\n",
       "      <td>0</td>\n",
       "      <td>NaN</td>\n",
       "      <td>LibriVox\\tBrowse the catalog</td>\n",
       "      <td>content</td>\n",
       "    </tr>\n",
       "    <tr>\n",
       "      <th>127</th>\n",
       "      <td>error</td>\n",
       "      <td>200</td>\n",
       "      <td>text/html</td>\n",
       "      <td>http://library.newmusicusa.org/e7aef43b-edde-4...</td>\n",
       "      <td>0</td>\n",
       "      <td>NaN</td>\n",
       "      <td>The Online Library | New Music USA</td>\n",
       "      <td>content</td>\n",
       "    </tr>\n",
       "    <tr>\n",
       "      <th>129</th>\n",
       "      <td>error</td>\n",
       "      <td>200</td>\n",
       "      <td>text/html</td>\n",
       "      <td>https://marketsci.wordpress.com/e7aef43b-edde-...</td>\n",
       "      <td>0</td>\n",
       "      <td>NaN</td>\n",
       "      <td>Private Site\\tBuild a website. Sell your stuff...</td>\n",
       "      <td>content</td>\n",
       "    </tr>\n",
       "    <tr>\n",
       "      <th>134</th>\n",
       "      <td>error</td>\n",
       "      <td>200</td>\n",
       "      <td>text/html</td>\n",
       "      <td>https://members.shaw.ca/e7aef43b-edde-490a-a95...</td>\n",
       "      <td>0</td>\n",
       "      <td>NaN</td>\n",
       "      <td>Shaw Communications\\tMembers Webspace has been...</td>\n",
       "      <td>content</td>\n",
       "    </tr>\n",
       "    <tr>\n",
       "      <th>139</th>\n",
       "      <td>error</td>\n",
       "      <td>200</td>\n",
       "      <td>text/html</td>\n",
       "      <td>https://mlb.mlb.com/e7aef43b-edde-490a-a95f-a3...</td>\n",
       "      <td>0</td>\n",
       "      <td>NaN</td>\n",
       "      <td>mlb.mlb.com does not support HTTPS requests</td>\n",
       "      <td>content</td>\n",
       "    </tr>\n",
       "    <tr>\n",
       "      <th>156</th>\n",
       "      <td>error</td>\n",
       "      <td>200</td>\n",
       "      <td>text/html</td>\n",
       "      <td>https://nzbfriends.com/e7aef43b-edde-490a-a95f...</td>\n",
       "      <td>0</td>\n",
       "      <td>NaN</td>\n",
       "      <td>* Usenet NZB Search results\\tHome\\tNewsgroups\\...</td>\n",
       "      <td>content</td>\n",
       "    </tr>\n",
       "    <tr>\n",
       "      <th>170</th>\n",
       "      <td>error</td>\n",
       "      <td>200</td>\n",
       "      <td>text/html</td>\n",
       "      <td>https://pawpet.tv/e7aef43b-edde-490a-a95f-a31d...</td>\n",
       "      <td>0</td>\n",
       "      <td>NaN</td>\n",
       "      <td>e7aef43b-edde-490a-a95f-a31d978d2bee [Funday P...</td>\n",
       "      <td>content</td>\n",
       "    </tr>\n",
       "    <tr>\n",
       "      <th>171</th>\n",
       "      <td>error</td>\n",
       "      <td>200</td>\n",
       "      <td>text/html</td>\n",
       "      <td>https://www.pch.com/e7aef43b-edde-490a-a95f-a3...</td>\n",
       "      <td>0</td>\n",
       "      <td>NaN</td>\n",
       "      <td>Come back soon to PCH.com!\\tWe appreciate your...</td>\n",
       "      <td>content</td>\n",
       "    </tr>\n",
       "    <tr>\n",
       "      <th>173</th>\n",
       "      <td>error</td>\n",
       "      <td>200</td>\n",
       "      <td>text/html</td>\n",
       "      <td>https://petwork.wordpress.com/e7aef43b-edde-49...</td>\n",
       "      <td>0</td>\n",
       "      <td>NaN</td>\n",
       "      <td>Private Site\\tBuild a website. Sell your stuff...</td>\n",
       "      <td>content</td>\n",
       "    </tr>\n",
       "    <tr>\n",
       "      <th>184</th>\n",
       "      <td>error</td>\n",
       "      <td>200</td>\n",
       "      <td>text/html</td>\n",
       "      <td>http://randolphcommunitytv.com/e7aef43b-edde-4...</td>\n",
       "      <td>0</td>\n",
       "      <td>NaN</td>\n",
       "      <td>RANDOLPHCOMMUNITYTV.COM</td>\n",
       "      <td>content</td>\n",
       "    </tr>\n",
       "    <tr>\n",
       "      <th>198</th>\n",
       "      <td>error</td>\n",
       "      <td>200</td>\n",
       "      <td>text/html</td>\n",
       "      <td>https://survivinginfidelity.com/e7aef43b-edde-...</td>\n",
       "      <td>0</td>\n",
       "      <td>NaN</td>\n",
       "      <td>Welcome to SurvivingInfidelity.com\\twidth\\tSur...</td>\n",
       "      <td>content</td>\n",
       "    </tr>\n",
       "    <tr>\n",
       "      <th>204</th>\n",
       "      <td>error</td>\n",
       "      <td>200</td>\n",
       "      <td>text/html</td>\n",
       "      <td>https://thevitalvoice.com/e7aef43b-edde-490a-a...</td>\n",
       "      <td>0</td>\n",
       "      <td>NaN</td>\n",
       "      <td>Please refresh the page. or close your browser...</td>\n",
       "      <td>content</td>\n",
       "    </tr>\n",
       "  </tbody>\n",
       "</table>\n",
       "</div>"
      ],
      "text/plain": [
       "     label  status_code content_type  \\\n",
       "12   error          200    text/html   \n",
       "15   error          200    text/html   \n",
       "38   error          200    text/html   \n",
       "48   error          200    text/html   \n",
       "55   error          200    text/html   \n",
       "69   error          200    text/html   \n",
       "83   error          200    text/html   \n",
       "93   error          200    text/html   \n",
       "95   error          200    text/html   \n",
       "96   error          200    text/html   \n",
       "99   error          200    text/html   \n",
       "100  error          200    text/html   \n",
       "122  error          200    text/html   \n",
       "123  error          200    text/html   \n",
       "127  error          200    text/html   \n",
       "129  error          200    text/html   \n",
       "134  error          200    text/html   \n",
       "139  error          200    text/html   \n",
       "156  error          200    text/html   \n",
       "170  error          200    text/html   \n",
       "171  error          200    text/html   \n",
       "173  error          200    text/html   \n",
       "184  error          200    text/html   \n",
       "198  error          200    text/html   \n",
       "204  error          200    text/html   \n",
       "\n",
       "                                                   url  size  title  \\\n",
       "12   https://andyriga.wordpress.com/e7aef43b-edde-4...     0    NaN   \n",
       "15   https://aqicn.org/e7aef43b-edde-490a-a95f-a31d...     0    NaN   \n",
       "38   http://clubelo.com/e7aef43b-edde-490a-a95f-a31...     0    NaN   \n",
       "48   https://dearreid.wordpress.com/e7aef43b-edde-4...     0    NaN   \n",
       "55   https://dos.liquiddoom.net/e7aef43b-edde-490a-...     0    NaN   \n",
       "69   https://evolution.genetics.washington.edu/e7ae...     0    NaN   \n",
       "83   https://furry.org.au/e7aef43b-edde-490a-a95f-a...     0    NaN   \n",
       "93   https://www.grandys.com/e7aef43b-edde-490a-a95...     0    NaN   \n",
       "95   http://giantdatabase.com/e7aef43b-edde-490a-a9...     0    NaN   \n",
       "96   https://hags-club.com/e7aef43b-edde-490a-a95f-...     0    NaN   \n",
       "99   https://h2g2.com/e7aef43b-edde-490a-a95f-a31d9...     0    NaN   \n",
       "100  https://hosted.ap.org/e7aef43b-edde-490a-a95f-...     0    NaN   \n",
       "122  https://lastrefuge.co.uk/e7aef43b-edde-490a-a9...     0    NaN   \n",
       "123  https://librivox.org/e7aef43b-edde-490a-a95f-a...     0    NaN   \n",
       "127  http://library.newmusicusa.org/e7aef43b-edde-4...     0    NaN   \n",
       "129  https://marketsci.wordpress.com/e7aef43b-edde-...     0    NaN   \n",
       "134  https://members.shaw.ca/e7aef43b-edde-490a-a95...     0    NaN   \n",
       "139  https://mlb.mlb.com/e7aef43b-edde-490a-a95f-a3...     0    NaN   \n",
       "156  https://nzbfriends.com/e7aef43b-edde-490a-a95f...     0    NaN   \n",
       "170  https://pawpet.tv/e7aef43b-edde-490a-a95f-a31d...     0    NaN   \n",
       "171  https://www.pch.com/e7aef43b-edde-490a-a95f-a3...     0    NaN   \n",
       "173  https://petwork.wordpress.com/e7aef43b-edde-49...     0    NaN   \n",
       "184  http://randolphcommunitytv.com/e7aef43b-edde-4...     0    NaN   \n",
       "198  https://survivinginfidelity.com/e7aef43b-edde-...     0    NaN   \n",
       "204  https://thevitalvoice.com/e7aef43b-edde-490a-a...     0    NaN   \n",
       "\n",
       "                                                  text     pred  \n",
       "12   Private Site\\tBuild a website. Sell your stuff...  content  \n",
       "15   China Air Pollution: Real-time Air Quality Ind...  content  \n",
       "38   Football Club Elo Ratings\\t<\\tSat, Dec 7th, 20...  content  \n",
       "48   Private Site\\tBuild a website. Sell your stuff...  content  \n",
       "55   Cannot read from language file:\\t./ai/language...  content  \n",
       "69   Felsenstein/Kuhner lab\\tThese web pages have m...  content  \n",
       "83   Find The Best Online Casinos in Australia\\tIt ...  content  \n",
       "93   jos-Error\\t: Category not found\\tJSite -> disp...  content  \n",
       "95                  GiantDatabase.com Message Response  content  \n",
       "96   ACHTUNG!\\tHAGS-CLUB.\\tNET\\tSCAM WARNING\\tThe s...  content  \n",
       "99   h2g2 - Oops.\\tUnable to find your page\\tOh dea...  content  \n",
       "100  *** Please visit to new Hosted site https://ho...  content  \n",
       "122  Last Refuge: Film, Images, Aerials and Publish...  content  \n",
       "123                       LibriVox\\tBrowse the catalog  content  \n",
       "127                 The Online Library | New Music USA  content  \n",
       "129  Private Site\\tBuild a website. Sell your stuff...  content  \n",
       "134  Shaw Communications\\tMembers Webspace has been...  content  \n",
       "139        mlb.mlb.com does not support HTTPS requests  content  \n",
       "156  * Usenet NZB Search results\\tHome\\tNewsgroups\\...  content  \n",
       "170  e7aef43b-edde-490a-a95f-a31d978d2bee [Funday P...  content  \n",
       "171  Come back soon to PCH.com!\\tWe appreciate your...  content  \n",
       "173  Private Site\\tBuild a website. Sell your stuff...  content  \n",
       "184                            RANDOLPHCOMMUNITYTV.COM  content  \n",
       "198  Welcome to SurvivingInfidelity.com\\twidth\\tSur...  content  \n",
       "204  Please refresh the page. or close your browser...  content  "
      ]
     },
     "execution_count": 40,
     "metadata": {},
     "output_type": "execute_result"
    }
   ],
   "source": [
    "df_diff"
   ]
  }
 ],
 "metadata": {
  "kaggle": {
   "accelerator": "none",
   "dataSources": [
    {
     "databundleVersionId": 10610768,
     "datasetId": 6239190,
     "sourceId": 10306744,
     "sourceType": "datasetVersion"
    }
   ],
   "dockerImageVersionId": 30822,
   "isGpuEnabled": false,
   "isInternetEnabled": true,
   "language": "python",
   "sourceType": "notebook"
  },
  "kernelspec": {
   "display_name": "Python 3 (ipykernel)",
   "language": "python",
   "name": "python3"
  },
  "language_info": {
   "codemirror_mode": {
    "name": "ipython",
    "version": 3
   },
   "file_extension": ".py",
   "mimetype": "text/x-python",
   "name": "python",
   "nbconvert_exporter": "python",
   "pygments_lexer": "ipython3",
   "version": "3.11.2"
  }
 },
 "nbformat": 4,
 "nbformat_minor": 4
}
